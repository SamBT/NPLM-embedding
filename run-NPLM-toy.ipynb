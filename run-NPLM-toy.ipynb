{
 "cells": [
  {
   "cell_type": "code",
   "execution_count": 1,
   "id": "7f063793-dbcf-446c-b0c7-08855a17c1cd",
   "metadata": {},
   "outputs": [
    {
     "name": "stderr",
     "output_type": "stream",
     "text": [
      "/n/holystore01/LABS/iaifi_lab/Users/sambt/mamba/envs/torch_gpu/lib/python3.10/site-packages/pandas/core/computation/expressions.py:21: UserWarning: Pandas requires version '2.8.4' or newer of 'numexpr' (version '2.7.3' currently installed).\n",
      "  from pandas.core.computation.check import NUMEXPR_INSTALLED\n"
     ]
    }
   ],
   "source": [
    "import glob, h5py, math, time, os, json, argparse, datetime\n",
    "import numpy as np\n",
    "from FLKutils import *\n",
    "from SampleUtils import *\n",
    "\n",
    "import matplotlib as mpl\n",
    "#mpl.use('Agg')\n",
    "import matplotlib.pyplot as plt\n",
    "import matplotlib.font_manager as font_manager\n",
    "plt.rcParams[\"font.family\"] = \"serif\"\n",
    "plt.style.use('classic')\n",
    "\n",
    "from tqdm import tqdm"
   ]
  },
  {
   "cell_type": "markdown",
   "id": "afd32423-b17c-48e1-a0cf-44c502c9d42d",
   "metadata": {},
   "source": [
    "# Data loading"
   ]
  },
  {
   "cell_type": "code",
   "execution_count": 26,
   "id": "8f15b6ea-05ef-4d97-bf85-78739bea90c3",
   "metadata": {},
   "outputs": [],
   "source": [
    "import uproot\n",
    "def load_data(name):\n",
    "    base=f\"/n/home11/sambt/contrastive_anomaly/training_JetClass/nate_scripts/trainings/kinpid/{name}/predict_output/\"\n",
    "    fQCD = uproot.open(base+\"pred_contrastive_embedding_ZJetsToNuNu.root\")[\"Events\"]\n",
    "    fW = uproot.open(base+\"pred_contrastive_embedding_WToQQ.root\")[\"Events\"]\n",
    "    fZ = uproot.open(base+\"pred_contrastive_embedding_ZToQQ.root\")[\"Events\"]\n",
    "    fT = uproot.open(base+\"pred_contrastive_embedding_TTBar.root\")[\"Events\"]\n",
    "    fHb = uproot.open(base+\"pred_contrastive_embedding_HToBB.root\")[\"Events\"]\n",
    "    \n",
    "    key = 'embeddings'\n",
    "    eQCD = fQCD[key].array().to_numpy()\n",
    "    eW = fW[key].array().to_numpy()\n",
    "    eZ = fZ[key].array().to_numpy()\n",
    "    eT = fT[key].array().to_numpy()\n",
    "    eHb = fHb[key].array().to_numpy()\n",
    "    \n",
    "    data = np.concatenate([eQCD,eW,eZ,eT,eHb],axis=0)\n",
    "    labels = np.concatenate([0*np.ones(eQCD.shape[0]),1*np.ones(eW.shape[0]),2*np.ones(eZ.shape[0]),3*np.ones(eT.shape[0]),4*np.ones(eHb.shape[0])],axis=0).astype(int)\n",
    "    \n",
    "    shuf = np.random.permutation(data.shape[0])\n",
    "    \n",
    "    return data[shuf], labels[shuf]"
   ]
  },
  {
   "cell_type": "code",
   "execution_count": 27,
   "id": "3adb5a7f-e8aa-4628-a21d-1403df8136f0",
   "metadata": {},
   "outputs": [],
   "source": [
    "d8_t05 = \"ParT_contrastive_outDim8_temp0.05/20241025-103500_ParT_embedder_46af587c0682e0beccd786dc5ac8abc1_adamW_lr0.0005_batch512\"\n",
    "d2_t05 = \"ParT_contrastive_outDim2_temp0.05/20241025-103500_ParT_embedder_46af587c0682e0beccd786dc5ac8abc1_adamW_lr0.0005_batch512\"\n",
    "d32_t05 = \"ParT_contrastive_outDim32_temp0.05/20241025-103500_ParT_embedder_46af587c0682e0beccd786dc5ac8abc1_adamW_lr0.0005_batch512\"\n",
    "d2_t1 = \"ParT_contrastive_outDim2_temp0.1/20241025-092604_ParT_embedder_d45c6dde3e2a709e6fd40acaf05cc5a2_adamW_lr0.0005_batch512\"\n",
    "d32_t1 = \"ParT_contrastive_outDim32_temp0.1/20241025-092618_ParT_embedder_d45c6dde3e2a709e6fd40acaf05cc5a2_adamW_lr0.0005_batch512\"\n",
    "d16_t1 = \"ParT_contrastive_outDim16_temp0.1/20241025-092614_ParT_embedder_d45c6dde3e2a709e6fd40acaf05cc5a2_adamW_lr0.0005_batch512\"\n",
    "d4_t1 = \"ParT_contrastive_outDim4_temp0.1/20241025-092604_ParT_embedder_d45c6dde3e2a709e6fd40acaf05cc5a2_adamW_lr0.0005_batch512\"\n",
    "d4_t05 = \"ParT_contrastive_outDim4_temp0.05/20241025-103500_ParT_embedder_46af587c0682e0beccd786dc5ac8abc1_adamW_lr0.0005_batch512\"\n",
    "d8_t1 = \"ParT_contrastive_outDim8_temp0.1/20241025-092604_ParT_embedder_d45c6dde3e2a709e6fd40acaf05cc5a2_adamW_lr0.0005_batch512\"\n",
    "d16_t05 = \"ParT_contrastive_outDim16_temp0.05/20241025-103500_ParT_embedder_46af587c0682e0beccd786dc5ac8abc1_adamW_lr0.0005_batch512\""
   ]
  },
  {
   "cell_type": "markdown",
   "id": "52d64d63-3567-44a4-a253-e626217eee31",
   "metadata": {},
   "source": [
    "# Problem setup"
   ]
  },
  {
   "cell_type": "code",
   "execution_count": 55,
   "id": "cc228341-ec5d-41fc-88f0-923635976ec2",
   "metadata": {},
   "outputs": [],
   "source": [
    "# labels identifying the signal classes in the dataset\n",
    "sig_labels=[4]\n",
    "# labels identifying the background classes in the dataset\n",
    "bkg_labels=[0, 1, 2, 3]\n",
    "\n",
    "# hyper parameters of the NPLM model based on kernel methods\n",
    "## number of kernels\n",
    "M = 1000 \n",
    "\n",
    "## percentile of the distribution of pair-wise distances between reference-distributed points\n",
    "flk_sigma_perc=90 \n",
    "\n",
    "## L2 regularization coefficient\n",
    "lam =1e-6 \n",
    "\n",
    "## number of maximum iterations before the training is killed\n",
    "iterations=1000000 \n",
    "#iterations = 1000\n",
    "\n",
    "## number of toys to simulate \n",
    "## (multiple experiments allow you to build a statistics for the test and quantify type I and II errors)\n",
    "Ntoys = 100\n"
   ]
  },
  {
   "cell_type": "code",
   "execution_count": 29,
   "id": "b434c140-a0d6-47bb-bac5-9db51ad9bd88",
   "metadata": {},
   "outputs": [],
   "source": [
    "features, target = load_data(d4_t1)"
   ]
  },
  {
   "cell_type": "code",
   "execution_count": 30,
   "id": "aa6b1f33-6f43-4014-bad7-a61673cf6a60",
   "metadata": {},
   "outputs": [
    {
     "data": {
      "text/plain": [
       "array([0, 1, 2, 3, 4])"
      ]
     },
     "execution_count": 30,
     "metadata": {},
     "output_type": "execute_result"
    }
   ],
   "source": [
    "np.unique(target)"
   ]
  },
  {
   "cell_type": "code",
   "execution_count": 31,
   "id": "bb6328bf-1294-402e-8e93-4ecc0a2267d3",
   "metadata": {},
   "outputs": [
    {
     "data": {
      "text/plain": [
       "(248320, 4)"
      ]
     },
     "execution_count": 31,
     "metadata": {},
     "output_type": "execute_result"
    }
   ],
   "source": [
    "features.shape"
   ]
  },
  {
   "cell_type": "code",
   "execution_count": 32,
   "id": "45883964-6f80-4c8b-8f79-28bfc349e630",
   "metadata": {},
   "outputs": [
    {
     "data": {
      "text/plain": [
       "(248320,)"
      ]
     },
     "execution_count": 32,
     "metadata": {},
     "output_type": "execute_result"
    }
   ],
   "source": [
    "target.shape"
   ]
  },
  {
   "cell_type": "code",
   "execution_count": 73,
   "id": "b1647b82-2f05-4301-9205-8f223273f3de",
   "metadata": {},
   "outputs": [
    {
     "data": {
      "text/plain": [
       "49664"
      ]
     },
     "execution_count": 73,
     "metadata": {},
     "output_type": "execute_result"
    }
   ],
   "source": [
    "np.count_nonzero(target==4)"
   ]
  },
  {
   "cell_type": "code",
   "execution_count": 33,
   "id": "0a8c4041-719e-457f-9de5-0c01d82e6af2",
   "metadata": {},
   "outputs": [],
   "source": [
    "# select SIG and BKG classes\n",
    "mask_SIG = np.zeros_like(target)\n",
    "mask_BKG = np.zeros_like(target)\n",
    "for sig_label in sig_labels:\n",
    "    mask_SIG += 1*(target==sig_label)\n",
    "for bkg_label in bkg_labels:\n",
    "    mask_BKG += 1*(target==bkg_label)\n",
    "\n",
    "features_SIG = features[mask_SIG>0]\n",
    "features_BKG = features[mask_BKG>0]\n",
    "############ end load data"
   ]
  },
  {
   "cell_type": "code",
   "execution_count": 34,
   "id": "b66d87dd-1450-4601-9edb-83ecbc640d3c",
   "metadata": {},
   "outputs": [
    {
     "name": "stdout",
     "output_type": "stream",
     "text": [
      "standardize\n",
      "mean:  [-5.22344626  1.14751353 -1.8257269  -5.32658572]\n",
      "std:  [2.22182653 1.83730505 1.99971436 3.16809514]\n"
     ]
    }
   ],
   "source": [
    "######## standardizes data\n",
    "print('standardize')\n",
    "features_mean, features_std = np.mean(features_BKG, axis=0), np.std(features_BKG, axis=0)\n",
    "print('mean: ', features_mean)\n",
    "print('std: ', features_std)\n",
    "features_BKG = standardize(features_BKG, features_mean, features_std)\n",
    "features_SIG = standardize(features_SIG, features_mean, features_std)\n",
    "\n"
   ]
  },
  {
   "cell_type": "code",
   "execution_count": 35,
   "id": "5bea0580-ef4f-4a3d-97e7-2eed68a5b7fa",
   "metadata": {},
   "outputs": [
    {
     "name": "stdout",
     "output_type": "stream",
     "text": [
      "flk_sigma 3.9\n"
     ]
    }
   ],
   "source": [
    "#### compute sigma hyper parameter from data\n",
    "#### sigma is the gaussian kernels width. \n",
    "#### Following a heuristic, we set this hyperparameter to the 90% quantile of the distribution of pair-wise distances between bkg-distributed points\n",
    "#### (see below)\n",
    "#### This doesn't need modifications, but one could in principle change it (see https://arxiv.org/abs/2408.12296)\n",
    "flk_sigma = candidate_sigma(features_BKG[:2000, :], perc=flk_sigma_perc)\n",
    "print('flk_sigma', flk_sigma)"
   ]
  },
  {
   "cell_type": "markdown",
   "id": "e3df3afe-437c-48d0-a989-ccec8bfd40b0",
   "metadata": {},
   "source": [
    "# Training"
   ]
  },
  {
   "cell_type": "markdown",
   "id": "7aca8082-1e2d-4334-bb10-d543cc95822e",
   "metadata": {},
   "source": [
    "## null hypothesis"
   ]
  },
  {
   "cell_type": "code",
   "execution_count": 57,
   "id": "2e588807-e804-4c6f-9bba-a2cc2dcef75e",
   "metadata": {},
   "outputs": [],
   "source": [
    "N_ref = 10000 # number of reference datapoints (mixture of non-anomalous classes)\n",
    "N_bkg = 1000 # number of backgroun datapoints in the data (mixture of non-anomalous classes present in the data)\n",
    "N_sig = 0 # number of signal datapoints in the data (mixture of anomalous classes present in the data)\n",
    "w_ref = N_bkg*1./N_ref"
   ]
  },
  {
   "cell_type": "code",
   "execution_count": 58,
   "id": "a3f81ae0-c650-4b07-9470-6bf79bf17c34",
   "metadata": {},
   "outputs": [
    {
     "name": "stdout",
     "output_type": "stream",
     "text": [
      "Start running toys\n"
     ]
    },
    {
     "name": "stderr",
     "output_type": "stream",
     "text": [
      "  0%|          | 0/100 [00:00<?, ?it/s]"
     ]
    },
    {
     "name": "stdout",
     "output_type": "stream",
     "text": [
      "Iteration 0 - penalty 1.000000e-06 - sub-iterations 1000000\n"
     ]
    },
    {
     "name": "stderr",
     "output_type": "stream",
     "text": [
      "  1%|          | 1/100 [00:00<00:31,  3.12it/s]"
     ]
    },
    {
     "name": "stdout",
     "output_type": "stream",
     "text": [
      "Iteration 0 - penalty 1.000000e-06 - sub-iterations 1000000\n"
     ]
    },
    {
     "name": "stderr",
     "output_type": "stream",
     "text": [
      "  2%|▏         | 2/100 [00:00<00:31,  3.15it/s]"
     ]
    },
    {
     "name": "stdout",
     "output_type": "stream",
     "text": [
      "Iteration 0 - penalty 1.000000e-06 - sub-iterations 1000000\n"
     ]
    },
    {
     "name": "stderr",
     "output_type": "stream",
     "text": [
      "  3%|▎         | 3/100 [00:00<00:30,  3.19it/s]"
     ]
    },
    {
     "name": "stdout",
     "output_type": "stream",
     "text": [
      "Iteration 0 - penalty 1.000000e-06 - sub-iterations 1000000\n"
     ]
    },
    {
     "name": "stderr",
     "output_type": "stream",
     "text": [
      "  4%|▍         | 4/100 [00:01<00:29,  3.21it/s]"
     ]
    },
    {
     "name": "stdout",
     "output_type": "stream",
     "text": [
      "Iteration 0 - penalty 1.000000e-06 - sub-iterations 1000000\n"
     ]
    },
    {
     "name": "stderr",
     "output_type": "stream",
     "text": [
      "  5%|▌         | 5/100 [00:01<00:29,  3.22it/s]"
     ]
    },
    {
     "name": "stdout",
     "output_type": "stream",
     "text": [
      "Iteration 0 - penalty 1.000000e-06 - sub-iterations 1000000\n"
     ]
    },
    {
     "name": "stderr",
     "output_type": "stream",
     "text": [
      "  6%|▌         | 6/100 [00:01<00:29,  3.23it/s]"
     ]
    },
    {
     "name": "stdout",
     "output_type": "stream",
     "text": [
      "Iteration 0 - penalty 1.000000e-06 - sub-iterations 1000000\n"
     ]
    },
    {
     "name": "stderr",
     "output_type": "stream",
     "text": [
      "  7%|▋         | 7/100 [00:02<00:28,  3.23it/s]"
     ]
    },
    {
     "name": "stdout",
     "output_type": "stream",
     "text": [
      "Iteration 0 - penalty 1.000000e-06 - sub-iterations 1000000\n"
     ]
    },
    {
     "name": "stderr",
     "output_type": "stream",
     "text": [
      "  8%|▊         | 8/100 [00:02<00:29,  3.15it/s]"
     ]
    },
    {
     "name": "stdout",
     "output_type": "stream",
     "text": [
      "Iteration 0 - penalty 1.000000e-06 - sub-iterations 1000000\n"
     ]
    },
    {
     "name": "stderr",
     "output_type": "stream",
     "text": [
      "  9%|▉         | 9/100 [00:02<00:28,  3.18it/s]"
     ]
    },
    {
     "name": "stdout",
     "output_type": "stream",
     "text": [
      "Iteration 0 - penalty 1.000000e-06 - sub-iterations 1000000\n"
     ]
    },
    {
     "name": "stderr",
     "output_type": "stream",
     "text": [
      " 10%|█         | 10/100 [00:03<00:28,  3.19it/s]"
     ]
    },
    {
     "name": "stdout",
     "output_type": "stream",
     "text": [
      "Iteration 0 - penalty 1.000000e-06 - sub-iterations 1000000\n"
     ]
    },
    {
     "name": "stderr",
     "output_type": "stream",
     "text": [
      " 11%|█         | 11/100 [00:03<00:27,  3.20it/s]"
     ]
    },
    {
     "name": "stdout",
     "output_type": "stream",
     "text": [
      "Iteration 0 - penalty 1.000000e-06 - sub-iterations 1000000\n"
     ]
    },
    {
     "name": "stderr",
     "output_type": "stream",
     "text": [
      " 12%|█▏        | 12/100 [00:03<00:27,  3.18it/s]"
     ]
    },
    {
     "name": "stdout",
     "output_type": "stream",
     "text": [
      "Iteration 0 - penalty 1.000000e-06 - sub-iterations 1000000\n"
     ]
    },
    {
     "name": "stderr",
     "output_type": "stream",
     "text": [
      " 13%|█▎        | 13/100 [00:04<00:27,  3.20it/s]"
     ]
    },
    {
     "name": "stdout",
     "output_type": "stream",
     "text": [
      "Iteration 0 - penalty 1.000000e-06 - sub-iterations 1000000\n"
     ]
    },
    {
     "name": "stderr",
     "output_type": "stream",
     "text": [
      " 14%|█▍        | 14/100 [00:04<00:26,  3.22it/s]"
     ]
    },
    {
     "name": "stdout",
     "output_type": "stream",
     "text": [
      "Iteration 0 - penalty 1.000000e-06 - sub-iterations 1000000\n"
     ]
    },
    {
     "name": "stderr",
     "output_type": "stream",
     "text": [
      " 15%|█▌        | 15/100 [00:04<00:27,  3.12it/s]"
     ]
    },
    {
     "name": "stdout",
     "output_type": "stream",
     "text": [
      "Iteration 0 - penalty 1.000000e-06 - sub-iterations 1000000\n"
     ]
    },
    {
     "name": "stderr",
     "output_type": "stream",
     "text": [
      " 16%|█▌        | 16/100 [00:05<00:26,  3.15it/s]"
     ]
    },
    {
     "name": "stdout",
     "output_type": "stream",
     "text": [
      "Iteration 0 - penalty 1.000000e-06 - sub-iterations 1000000\n"
     ]
    },
    {
     "name": "stderr",
     "output_type": "stream",
     "text": [
      " 17%|█▋        | 17/100 [00:05<00:26,  3.16it/s]"
     ]
    },
    {
     "name": "stdout",
     "output_type": "stream",
     "text": [
      "Iteration 0 - penalty 1.000000e-06 - sub-iterations 1000000\n"
     ]
    },
    {
     "name": "stderr",
     "output_type": "stream",
     "text": [
      " 18%|█▊        | 18/100 [00:05<00:26,  3.14it/s]"
     ]
    },
    {
     "name": "stdout",
     "output_type": "stream",
     "text": [
      "Iteration 0 - penalty 1.000000e-06 - sub-iterations 1000000\n"
     ]
    },
    {
     "name": "stderr",
     "output_type": "stream",
     "text": [
      " 19%|█▉        | 19/100 [00:05<00:25,  3.12it/s]"
     ]
    },
    {
     "name": "stdout",
     "output_type": "stream",
     "text": [
      "Iteration 0 - penalty 1.000000e-06 - sub-iterations 1000000\n"
     ]
    },
    {
     "name": "stderr",
     "output_type": "stream",
     "text": [
      " 20%|██        | 20/100 [00:06<00:25,  3.12it/s]"
     ]
    },
    {
     "name": "stdout",
     "output_type": "stream",
     "text": [
      "Iteration 0 - penalty 1.000000e-06 - sub-iterations 1000000\n"
     ]
    },
    {
     "name": "stderr",
     "output_type": "stream",
     "text": [
      " 21%|██        | 21/100 [00:06<00:25,  3.13it/s]"
     ]
    },
    {
     "name": "stdout",
     "output_type": "stream",
     "text": [
      "Iteration 0 - penalty 1.000000e-06 - sub-iterations 1000000\n"
     ]
    },
    {
     "name": "stderr",
     "output_type": "stream",
     "text": [
      " 22%|██▏       | 22/100 [00:06<00:24,  3.16it/s]"
     ]
    },
    {
     "name": "stdout",
     "output_type": "stream",
     "text": [
      "Iteration 0 - penalty 1.000000e-06 - sub-iterations 1000000\n"
     ]
    },
    {
     "name": "stderr",
     "output_type": "stream",
     "text": [
      " 23%|██▎       | 23/100 [00:07<00:24,  3.19it/s]"
     ]
    },
    {
     "name": "stdout",
     "output_type": "stream",
     "text": [
      "Iteration 0 - penalty 1.000000e-06 - sub-iterations 1000000\n"
     ]
    },
    {
     "name": "stderr",
     "output_type": "stream",
     "text": [
      " 24%|██▍       | 24/100 [00:07<00:23,  3.21it/s]"
     ]
    },
    {
     "name": "stdout",
     "output_type": "stream",
     "text": [
      "Iteration 0 - penalty 1.000000e-06 - sub-iterations 1000000\n"
     ]
    },
    {
     "name": "stderr",
     "output_type": "stream",
     "text": [
      " 25%|██▌       | 25/100 [00:07<00:23,  3.22it/s]"
     ]
    },
    {
     "name": "stdout",
     "output_type": "stream",
     "text": [
      "Iteration 0 - penalty 1.000000e-06 - sub-iterations 1000000\n"
     ]
    },
    {
     "name": "stderr",
     "output_type": "stream",
     "text": [
      " 26%|██▌       | 26/100 [00:08<00:22,  3.24it/s]"
     ]
    },
    {
     "name": "stdout",
     "output_type": "stream",
     "text": [
      "Iteration 0 - penalty 1.000000e-06 - sub-iterations 1000000\n"
     ]
    },
    {
     "name": "stderr",
     "output_type": "stream",
     "text": [
      " 27%|██▋       | 27/100 [00:08<00:22,  3.23it/s]"
     ]
    },
    {
     "name": "stdout",
     "output_type": "stream",
     "text": [
      "Iteration 0 - penalty 1.000000e-06 - sub-iterations 1000000\n"
     ]
    },
    {
     "name": "stderr",
     "output_type": "stream",
     "text": [
      " 28%|██▊       | 28/100 [00:08<00:22,  3.23it/s]"
     ]
    },
    {
     "name": "stdout",
     "output_type": "stream",
     "text": [
      "Iteration 0 - penalty 1.000000e-06 - sub-iterations 1000000\n"
     ]
    },
    {
     "name": "stderr",
     "output_type": "stream",
     "text": [
      " 29%|██▉       | 29/100 [00:09<00:21,  3.24it/s]"
     ]
    },
    {
     "name": "stdout",
     "output_type": "stream",
     "text": [
      "Iteration 0 - penalty 1.000000e-06 - sub-iterations 1000000\n"
     ]
    },
    {
     "name": "stderr",
     "output_type": "stream",
     "text": [
      " 30%|███       | 30/100 [00:09<00:21,  3.23it/s]"
     ]
    },
    {
     "name": "stdout",
     "output_type": "stream",
     "text": [
      "Iteration 0 - penalty 1.000000e-06 - sub-iterations 1000000\n"
     ]
    },
    {
     "name": "stderr",
     "output_type": "stream",
     "text": [
      " 31%|███       | 31/100 [00:09<00:21,  3.23it/s]"
     ]
    },
    {
     "name": "stdout",
     "output_type": "stream",
     "text": [
      "Iteration 0 - penalty 1.000000e-06 - sub-iterations 1000000\n"
     ]
    },
    {
     "name": "stderr",
     "output_type": "stream",
     "text": [
      " 32%|███▏      | 32/100 [00:10<00:21,  3.21it/s]"
     ]
    },
    {
     "name": "stdout",
     "output_type": "stream",
     "text": [
      "Iteration 0 - penalty 1.000000e-06 - sub-iterations 1000000\n"
     ]
    },
    {
     "name": "stderr",
     "output_type": "stream",
     "text": [
      " 33%|███▎      | 33/100 [00:10<00:20,  3.22it/s]"
     ]
    },
    {
     "name": "stdout",
     "output_type": "stream",
     "text": [
      "Iteration 0 - penalty 1.000000e-06 - sub-iterations 1000000\n"
     ]
    },
    {
     "name": "stderr",
     "output_type": "stream",
     "text": [
      " 34%|███▍      | 34/100 [00:10<00:20,  3.23it/s]"
     ]
    },
    {
     "name": "stdout",
     "output_type": "stream",
     "text": [
      "Iteration 0 - penalty 1.000000e-06 - sub-iterations 1000000\n"
     ]
    },
    {
     "name": "stderr",
     "output_type": "stream",
     "text": [
      " 35%|███▌      | 35/100 [00:10<00:20,  3.23it/s]"
     ]
    },
    {
     "name": "stdout",
     "output_type": "stream",
     "text": [
      "Iteration 0 - penalty 1.000000e-06 - sub-iterations 1000000\n"
     ]
    },
    {
     "name": "stderr",
     "output_type": "stream",
     "text": [
      " 36%|███▌      | 36/100 [00:11<00:19,  3.23it/s]"
     ]
    },
    {
     "name": "stdout",
     "output_type": "stream",
     "text": [
      "Iteration 0 - penalty 1.000000e-06 - sub-iterations 1000000\n"
     ]
    },
    {
     "name": "stderr",
     "output_type": "stream",
     "text": [
      " 37%|███▋      | 37/100 [00:11<00:19,  3.24it/s]"
     ]
    },
    {
     "name": "stdout",
     "output_type": "stream",
     "text": [
      "Iteration 0 - penalty 1.000000e-06 - sub-iterations 1000000\n"
     ]
    },
    {
     "name": "stderr",
     "output_type": "stream",
     "text": [
      " 38%|███▊      | 38/100 [00:11<00:19,  3.23it/s]"
     ]
    },
    {
     "name": "stdout",
     "output_type": "stream",
     "text": [
      "Iteration 0 - penalty 1.000000e-06 - sub-iterations 1000000\n"
     ]
    },
    {
     "name": "stderr",
     "output_type": "stream",
     "text": [
      " 39%|███▉      | 39/100 [00:12<00:18,  3.24it/s]"
     ]
    },
    {
     "name": "stdout",
     "output_type": "stream",
     "text": [
      "Iteration 0 - penalty 1.000000e-06 - sub-iterations 1000000\n"
     ]
    },
    {
     "name": "stderr",
     "output_type": "stream",
     "text": [
      " 40%|████      | 40/100 [00:12<00:18,  3.25it/s]"
     ]
    },
    {
     "name": "stdout",
     "output_type": "stream",
     "text": [
      "Iteration 0 - penalty 1.000000e-06 - sub-iterations 1000000\n"
     ]
    },
    {
     "name": "stderr",
     "output_type": "stream",
     "text": [
      " 41%|████      | 41/100 [00:12<00:18,  3.25it/s]"
     ]
    },
    {
     "name": "stdout",
     "output_type": "stream",
     "text": [
      "Iteration 0 - penalty 1.000000e-06 - sub-iterations 1000000\n"
     ]
    },
    {
     "name": "stderr",
     "output_type": "stream",
     "text": [
      " 42%|████▏     | 42/100 [00:13<00:17,  3.26it/s]"
     ]
    },
    {
     "name": "stdout",
     "output_type": "stream",
     "text": [
      "Iteration 0 - penalty 1.000000e-06 - sub-iterations 1000000\n"
     ]
    },
    {
     "name": "stderr",
     "output_type": "stream",
     "text": [
      " 43%|████▎     | 43/100 [00:13<00:17,  3.24it/s]"
     ]
    },
    {
     "name": "stdout",
     "output_type": "stream",
     "text": [
      "Iteration 0 - penalty 1.000000e-06 - sub-iterations 1000000\n"
     ]
    },
    {
     "name": "stderr",
     "output_type": "stream",
     "text": [
      " 44%|████▍     | 44/100 [00:13<00:17,  3.22it/s]"
     ]
    },
    {
     "name": "stdout",
     "output_type": "stream",
     "text": [
      "Iteration 0 - penalty 1.000000e-06 - sub-iterations 1000000\n"
     ]
    },
    {
     "name": "stderr",
     "output_type": "stream",
     "text": [
      " 45%|████▌     | 45/100 [00:14<00:17,  3.20it/s]"
     ]
    },
    {
     "name": "stdout",
     "output_type": "stream",
     "text": [
      "Iteration 0 - penalty 1.000000e-06 - sub-iterations 1000000\n"
     ]
    },
    {
     "name": "stderr",
     "output_type": "stream",
     "text": [
      " 46%|████▌     | 46/100 [00:14<00:16,  3.20it/s]"
     ]
    },
    {
     "name": "stdout",
     "output_type": "stream",
     "text": [
      "Iteration 0 - penalty 1.000000e-06 - sub-iterations 1000000\n"
     ]
    },
    {
     "name": "stderr",
     "output_type": "stream",
     "text": [
      " 47%|████▋     | 47/100 [00:14<00:16,  3.19it/s]"
     ]
    },
    {
     "name": "stdout",
     "output_type": "stream",
     "text": [
      "Iteration 0 - penalty 1.000000e-06 - sub-iterations 1000000\n"
     ]
    },
    {
     "name": "stderr",
     "output_type": "stream",
     "text": [
      " 48%|████▊     | 48/100 [00:14<00:16,  3.19it/s]"
     ]
    },
    {
     "name": "stdout",
     "output_type": "stream",
     "text": [
      "Iteration 0 - penalty 1.000000e-06 - sub-iterations 1000000\n"
     ]
    },
    {
     "name": "stderr",
     "output_type": "stream",
     "text": [
      " 49%|████▉     | 49/100 [00:15<00:15,  3.19it/s]"
     ]
    },
    {
     "name": "stdout",
     "output_type": "stream",
     "text": [
      "Iteration 0 - penalty 1.000000e-06 - sub-iterations 1000000\n"
     ]
    },
    {
     "name": "stderr",
     "output_type": "stream",
     "text": [
      " 50%|█████     | 50/100 [00:15<00:15,  3.20it/s]"
     ]
    },
    {
     "name": "stdout",
     "output_type": "stream",
     "text": [
      "Iteration 0 - penalty 1.000000e-06 - sub-iterations 1000000\n"
     ]
    },
    {
     "name": "stderr",
     "output_type": "stream",
     "text": [
      " 51%|█████     | 51/100 [00:15<00:15,  3.18it/s]"
     ]
    },
    {
     "name": "stdout",
     "output_type": "stream",
     "text": [
      "Iteration 0 - penalty 1.000000e-06 - sub-iterations 1000000\n"
     ]
    },
    {
     "name": "stderr",
     "output_type": "stream",
     "text": [
      " 52%|█████▏    | 52/100 [00:16<00:15,  3.18it/s]"
     ]
    },
    {
     "name": "stdout",
     "output_type": "stream",
     "text": [
      "Iteration 0 - penalty 1.000000e-06 - sub-iterations 1000000\n"
     ]
    },
    {
     "name": "stderr",
     "output_type": "stream",
     "text": [
      " 53%|█████▎    | 53/100 [00:16<00:14,  3.21it/s]"
     ]
    },
    {
     "name": "stdout",
     "output_type": "stream",
     "text": [
      "Iteration 0 - penalty 1.000000e-06 - sub-iterations 1000000\n"
     ]
    },
    {
     "name": "stderr",
     "output_type": "stream",
     "text": [
      " 54%|█████▍    | 54/100 [00:16<00:14,  3.22it/s]"
     ]
    },
    {
     "name": "stdout",
     "output_type": "stream",
     "text": [
      "Iteration 0 - penalty 1.000000e-06 - sub-iterations 1000000\n"
     ]
    },
    {
     "name": "stderr",
     "output_type": "stream",
     "text": [
      " 55%|█████▌    | 55/100 [00:17<00:13,  3.24it/s]"
     ]
    },
    {
     "name": "stdout",
     "output_type": "stream",
     "text": [
      "Iteration 0 - penalty 1.000000e-06 - sub-iterations 1000000\n"
     ]
    },
    {
     "name": "stderr",
     "output_type": "stream",
     "text": [
      " 56%|█████▌    | 56/100 [00:17<00:13,  3.25it/s]"
     ]
    },
    {
     "name": "stdout",
     "output_type": "stream",
     "text": [
      "Iteration 0 - penalty 1.000000e-06 - sub-iterations 1000000\n"
     ]
    },
    {
     "name": "stderr",
     "output_type": "stream",
     "text": [
      " 57%|█████▋    | 57/100 [00:17<00:13,  3.23it/s]"
     ]
    },
    {
     "name": "stdout",
     "output_type": "stream",
     "text": [
      "Iteration 0 - penalty 1.000000e-06 - sub-iterations 1000000\n"
     ]
    },
    {
     "name": "stderr",
     "output_type": "stream",
     "text": [
      " 58%|█████▊    | 58/100 [00:18<00:13,  3.22it/s]"
     ]
    },
    {
     "name": "stdout",
     "output_type": "stream",
     "text": [
      "Iteration 0 - penalty 1.000000e-06 - sub-iterations 1000000\n"
     ]
    },
    {
     "name": "stderr",
     "output_type": "stream",
     "text": [
      " 59%|█████▉    | 59/100 [00:18<00:12,  3.24it/s]"
     ]
    },
    {
     "name": "stdout",
     "output_type": "stream",
     "text": [
      "Iteration 0 - penalty 1.000000e-06 - sub-iterations 1000000\n"
     ]
    },
    {
     "name": "stderr",
     "output_type": "stream",
     "text": [
      " 60%|██████    | 60/100 [00:18<00:12,  3.23it/s]"
     ]
    },
    {
     "name": "stdout",
     "output_type": "stream",
     "text": [
      "Iteration 0 - penalty 1.000000e-06 - sub-iterations 1000000\n"
     ]
    },
    {
     "name": "stderr",
     "output_type": "stream",
     "text": [
      " 61%|██████    | 61/100 [00:19<00:12,  3.22it/s]"
     ]
    },
    {
     "name": "stdout",
     "output_type": "stream",
     "text": [
      "Iteration 0 - penalty 1.000000e-06 - sub-iterations 1000000\n"
     ]
    },
    {
     "name": "stderr",
     "output_type": "stream",
     "text": [
      " 62%|██████▏   | 62/100 [00:19<00:11,  3.22it/s]"
     ]
    },
    {
     "name": "stdout",
     "output_type": "stream",
     "text": [
      "Iteration 0 - penalty 1.000000e-06 - sub-iterations 1000000\n"
     ]
    },
    {
     "name": "stderr",
     "output_type": "stream",
     "text": [
      " 63%|██████▎   | 63/100 [00:19<00:11,  3.22it/s]"
     ]
    },
    {
     "name": "stdout",
     "output_type": "stream",
     "text": [
      "Iteration 0 - penalty 1.000000e-06 - sub-iterations 1000000\n"
     ]
    },
    {
     "name": "stderr",
     "output_type": "stream",
     "text": [
      " 64%|██████▍   | 64/100 [00:19<00:11,  3.23it/s]"
     ]
    },
    {
     "name": "stdout",
     "output_type": "stream",
     "text": [
      "Iteration 0 - penalty 1.000000e-06 - sub-iterations 1000000\n"
     ]
    },
    {
     "name": "stderr",
     "output_type": "stream",
     "text": [
      " 65%|██████▌   | 65/100 [00:20<00:10,  3.23it/s]"
     ]
    },
    {
     "name": "stdout",
     "output_type": "stream",
     "text": [
      "Iteration 0 - penalty 1.000000e-06 - sub-iterations 1000000\n"
     ]
    },
    {
     "name": "stderr",
     "output_type": "stream",
     "text": [
      " 66%|██████▌   | 66/100 [00:20<00:10,  3.23it/s]"
     ]
    },
    {
     "name": "stdout",
     "output_type": "stream",
     "text": [
      "Iteration 0 - penalty 1.000000e-06 - sub-iterations 1000000\n"
     ]
    },
    {
     "name": "stderr",
     "output_type": "stream",
     "text": [
      " 67%|██████▋   | 67/100 [00:20<00:10,  3.24it/s]"
     ]
    },
    {
     "name": "stdout",
     "output_type": "stream",
     "text": [
      "Iteration 0 - penalty 1.000000e-06 - sub-iterations 1000000\n"
     ]
    },
    {
     "name": "stderr",
     "output_type": "stream",
     "text": [
      " 68%|██████▊   | 68/100 [00:21<00:09,  3.25it/s]"
     ]
    },
    {
     "name": "stdout",
     "output_type": "stream",
     "text": [
      "Iteration 0 - penalty 1.000000e-06 - sub-iterations 1000000\n"
     ]
    },
    {
     "name": "stderr",
     "output_type": "stream",
     "text": [
      " 69%|██████▉   | 69/100 [00:21<00:09,  3.26it/s]"
     ]
    },
    {
     "name": "stdout",
     "output_type": "stream",
     "text": [
      "Iteration 0 - penalty 1.000000e-06 - sub-iterations 1000000\n"
     ]
    },
    {
     "name": "stderr",
     "output_type": "stream",
     "text": [
      " 70%|███████   | 70/100 [00:21<00:09,  3.26it/s]"
     ]
    },
    {
     "name": "stdout",
     "output_type": "stream",
     "text": [
      "Iteration 0 - penalty 1.000000e-06 - sub-iterations 1000000\n"
     ]
    },
    {
     "name": "stderr",
     "output_type": "stream",
     "text": [
      " 71%|███████   | 71/100 [00:22<00:08,  3.26it/s]"
     ]
    },
    {
     "name": "stdout",
     "output_type": "stream",
     "text": [
      "Iteration 0 - penalty 1.000000e-06 - sub-iterations 1000000\n"
     ]
    },
    {
     "name": "stderr",
     "output_type": "stream",
     "text": [
      " 72%|███████▏  | 72/100 [00:22<00:08,  3.23it/s]"
     ]
    },
    {
     "name": "stdout",
     "output_type": "stream",
     "text": [
      "Iteration 0 - penalty 1.000000e-06 - sub-iterations 1000000\n"
     ]
    },
    {
     "name": "stderr",
     "output_type": "stream",
     "text": [
      " 73%|███████▎  | 73/100 [00:22<00:08,  3.24it/s]"
     ]
    },
    {
     "name": "stdout",
     "output_type": "stream",
     "text": [
      "Iteration 0 - penalty 1.000000e-06 - sub-iterations 1000000\n"
     ]
    },
    {
     "name": "stderr",
     "output_type": "stream",
     "text": [
      " 74%|███████▍  | 74/100 [00:23<00:07,  3.25it/s]"
     ]
    },
    {
     "name": "stdout",
     "output_type": "stream",
     "text": [
      "Iteration 0 - penalty 1.000000e-06 - sub-iterations 1000000\n"
     ]
    },
    {
     "name": "stderr",
     "output_type": "stream",
     "text": [
      " 75%|███████▌  | 75/100 [00:23<00:07,  3.23it/s]"
     ]
    },
    {
     "name": "stdout",
     "output_type": "stream",
     "text": [
      "Iteration 0 - penalty 1.000000e-06 - sub-iterations 1000000\n"
     ]
    },
    {
     "name": "stderr",
     "output_type": "stream",
     "text": [
      " 76%|███████▌  | 76/100 [00:23<00:07,  3.25it/s]"
     ]
    },
    {
     "name": "stdout",
     "output_type": "stream",
     "text": [
      "Iteration 0 - penalty 1.000000e-06 - sub-iterations 1000000\n"
     ]
    },
    {
     "name": "stderr",
     "output_type": "stream",
     "text": [
      " 77%|███████▋  | 77/100 [00:23<00:07,  3.25it/s]"
     ]
    },
    {
     "name": "stdout",
     "output_type": "stream",
     "text": [
      "Iteration 0 - penalty 1.000000e-06 - sub-iterations 1000000\n"
     ]
    },
    {
     "name": "stderr",
     "output_type": "stream",
     "text": [
      " 78%|███████▊  | 78/100 [00:24<00:06,  3.25it/s]"
     ]
    },
    {
     "name": "stdout",
     "output_type": "stream",
     "text": [
      "Iteration 0 - penalty 1.000000e-06 - sub-iterations 1000000\n"
     ]
    },
    {
     "name": "stderr",
     "output_type": "stream",
     "text": [
      " 79%|███████▉  | 79/100 [00:24<00:06,  3.25it/s]"
     ]
    },
    {
     "name": "stdout",
     "output_type": "stream",
     "text": [
      "Iteration 0 - penalty 1.000000e-06 - sub-iterations 1000000\n"
     ]
    },
    {
     "name": "stderr",
     "output_type": "stream",
     "text": [
      " 80%|████████  | 80/100 [00:24<00:06,  3.25it/s]"
     ]
    },
    {
     "name": "stdout",
     "output_type": "stream",
     "text": [
      "Iteration 0 - penalty 1.000000e-06 - sub-iterations 1000000\n"
     ]
    },
    {
     "name": "stderr",
     "output_type": "stream",
     "text": [
      " 81%|████████  | 81/100 [00:25<00:05,  3.25it/s]"
     ]
    },
    {
     "name": "stdout",
     "output_type": "stream",
     "text": [
      "Iteration 0 - penalty 1.000000e-06 - sub-iterations 1000000\n"
     ]
    },
    {
     "name": "stderr",
     "output_type": "stream",
     "text": [
      " 82%|████████▏ | 82/100 [00:25<00:05,  3.25it/s]"
     ]
    },
    {
     "name": "stdout",
     "output_type": "stream",
     "text": [
      "Iteration 0 - penalty 1.000000e-06 - sub-iterations 1000000\n"
     ]
    },
    {
     "name": "stderr",
     "output_type": "stream",
     "text": [
      " 83%|████████▎ | 83/100 [00:25<00:05,  3.18it/s]"
     ]
    },
    {
     "name": "stdout",
     "output_type": "stream",
     "text": [
      "Iteration 0 - penalty 1.000000e-06 - sub-iterations 1000000\n"
     ]
    },
    {
     "name": "stderr",
     "output_type": "stream",
     "text": [
      " 84%|████████▍ | 84/100 [00:26<00:04,  3.21it/s]"
     ]
    },
    {
     "name": "stdout",
     "output_type": "stream",
     "text": [
      "Iteration 0 - penalty 1.000000e-06 - sub-iterations 1000000\n"
     ]
    },
    {
     "name": "stderr",
     "output_type": "stream",
     "text": [
      " 85%|████████▌ | 85/100 [00:26<00:04,  3.22it/s]"
     ]
    },
    {
     "name": "stdout",
     "output_type": "stream",
     "text": [
      "Iteration 0 - penalty 1.000000e-06 - sub-iterations 1000000\n"
     ]
    },
    {
     "name": "stderr",
     "output_type": "stream",
     "text": [
      " 86%|████████▌ | 86/100 [00:26<00:04,  3.23it/s]"
     ]
    },
    {
     "name": "stdout",
     "output_type": "stream",
     "text": [
      "Iteration 0 - penalty 1.000000e-06 - sub-iterations 1000000\n"
     ]
    },
    {
     "name": "stderr",
     "output_type": "stream",
     "text": [
      " 87%|████████▋ | 87/100 [00:27<00:04,  3.20it/s]"
     ]
    },
    {
     "name": "stdout",
     "output_type": "stream",
     "text": [
      "Iteration 0 - penalty 1.000000e-06 - sub-iterations 1000000\n"
     ]
    },
    {
     "name": "stderr",
     "output_type": "stream",
     "text": [
      " 88%|████████▊ | 88/100 [00:27<00:03,  3.21it/s]"
     ]
    },
    {
     "name": "stdout",
     "output_type": "stream",
     "text": [
      "Iteration 0 - penalty 1.000000e-06 - sub-iterations 1000000\n"
     ]
    },
    {
     "name": "stderr",
     "output_type": "stream",
     "text": [
      " 89%|████████▉ | 89/100 [00:27<00:03,  3.20it/s]"
     ]
    },
    {
     "name": "stdout",
     "output_type": "stream",
     "text": [
      "Iteration 0 - penalty 1.000000e-06 - sub-iterations 1000000\n"
     ]
    },
    {
     "name": "stderr",
     "output_type": "stream",
     "text": [
      " 90%|█████████ | 90/100 [00:28<00:03,  3.18it/s]"
     ]
    },
    {
     "name": "stdout",
     "output_type": "stream",
     "text": [
      "Iteration 0 - penalty 1.000000e-06 - sub-iterations 1000000\n"
     ]
    },
    {
     "name": "stderr",
     "output_type": "stream",
     "text": [
      " 91%|█████████ | 91/100 [00:28<00:02,  3.16it/s]"
     ]
    },
    {
     "name": "stdout",
     "output_type": "stream",
     "text": [
      "Iteration 0 - penalty 1.000000e-06 - sub-iterations 1000000\n"
     ]
    },
    {
     "name": "stderr",
     "output_type": "stream",
     "text": [
      " 92%|█████████▏| 92/100 [00:28<00:02,  3.16it/s]"
     ]
    },
    {
     "name": "stdout",
     "output_type": "stream",
     "text": [
      "Iteration 0 - penalty 1.000000e-06 - sub-iterations 1000000\n"
     ]
    },
    {
     "name": "stderr",
     "output_type": "stream",
     "text": [
      " 93%|█████████▎| 93/100 [00:28<00:02,  3.18it/s]"
     ]
    },
    {
     "name": "stdout",
     "output_type": "stream",
     "text": [
      "Iteration 0 - penalty 1.000000e-06 - sub-iterations 1000000\n"
     ]
    },
    {
     "name": "stderr",
     "output_type": "stream",
     "text": [
      " 94%|█████████▍| 94/100 [00:29<00:01,  3.17it/s]"
     ]
    },
    {
     "name": "stdout",
     "output_type": "stream",
     "text": [
      "Iteration 0 - penalty 1.000000e-06 - sub-iterations 1000000\n"
     ]
    },
    {
     "name": "stderr",
     "output_type": "stream",
     "text": [
      " 95%|█████████▌| 95/100 [00:29<00:01,  3.18it/s]"
     ]
    },
    {
     "name": "stdout",
     "output_type": "stream",
     "text": [
      "Iteration 0 - penalty 1.000000e-06 - sub-iterations 1000000\n"
     ]
    },
    {
     "name": "stderr",
     "output_type": "stream",
     "text": [
      " 96%|█████████▌| 96/100 [00:29<00:01,  3.19it/s]"
     ]
    },
    {
     "name": "stdout",
     "output_type": "stream",
     "text": [
      "Iteration 0 - penalty 1.000000e-06 - sub-iterations 1000000\n"
     ]
    },
    {
     "name": "stderr",
     "output_type": "stream",
     "text": [
      " 97%|█████████▋| 97/100 [00:30<00:00,  3.20it/s]"
     ]
    },
    {
     "name": "stdout",
     "output_type": "stream",
     "text": [
      "Iteration 0 - penalty 1.000000e-06 - sub-iterations 1000000\n"
     ]
    },
    {
     "name": "stderr",
     "output_type": "stream",
     "text": [
      " 98%|█████████▊| 98/100 [00:30<00:00,  3.20it/s]"
     ]
    },
    {
     "name": "stdout",
     "output_type": "stream",
     "text": [
      "Iteration 0 - penalty 1.000000e-06 - sub-iterations 1000000\n"
     ]
    },
    {
     "name": "stderr",
     "output_type": "stream",
     "text": [
      " 99%|█████████▉| 99/100 [00:30<00:00,  3.22it/s]"
     ]
    },
    {
     "name": "stdout",
     "output_type": "stream",
     "text": [
      "Iteration 0 - penalty 1.000000e-06 - sub-iterations 1000000\n"
     ]
    },
    {
     "name": "stderr",
     "output_type": "stream",
     "text": [
      "100%|██████████| 100/100 [00:31<00:00,  3.21it/s]\n"
     ]
    }
   ],
   "source": [
    "## run toys\n",
    "print('Start running toys')\n",
    "t0=np.array([])\n",
    "seeds = np.random.randint(low=1, high=100000, size=(Ntoys,))\n",
    "for i in tqdm(range(Ntoys)):\n",
    "    seed = seeds[i]\n",
    "    rng = np.random.default_rng(seed=seed)\n",
    "    N_bkg_p = rng.poisson(lam=N_bkg, size=1)[0]\n",
    "    N_sig_p = rng.poisson(lam=N_sig, size=1)[0]\n",
    "    rng.shuffle(features_SIG)\n",
    "    rng.shuffle(features_BKG)\n",
    "    features_s = features_SIG[:N_sig_p, :]\n",
    "    features_b = features_BKG[:N_bkg_p+N_ref, :]\n",
    "    features  = np.concatenate((features_s,features_b), axis=0)\n",
    "\n",
    "    label_R = np.zeros((N_ref,))\n",
    "    label_D = np.ones((N_bkg_p+N_sig_p, ))\n",
    "    labels  = np.concatenate((label_D,label_R), axis=0).reshape(-1,1)\n",
    "    \n",
    "    flk_config = get_logflk_config(M,flk_sigma,[lam],weight=w_ref,iter=[iterations],seed=None,cpu=False)\n",
    "    t, pred = run_toy('t0', features, labels, weight=w_ref, seed=seed,\n",
    "                      flk_config=flk_config, output_path='./', plot=False, savefig=False,\n",
    "                      verbose=False)\n",
    "    \n",
    "    t0 = np.append(t0, t)"
   ]
  },
  {
   "cell_type": "markdown",
   "id": "8374ae78-ebd4-44ae-97dc-e53733e1a2b5",
   "metadata": {},
   "source": [
    "## alternative hypothesis (signal injection)"
   ]
  },
  {
   "cell_type": "code",
   "execution_count": 59,
   "id": "f18e2700-0c02-451f-9a41-d946d169dfab",
   "metadata": {},
   "outputs": [],
   "source": [
    "N_ref = 10000 # number of reference datapoints (mixture of non-anomalous classes)\n",
    "N_bkg = 1000 # number of backgroun datapoints in the data (mixture of non-anomalous classes present in the data)\n",
    "N_sig = 100 # number of signal datapoints in the data (mixture of anomalous classes present in the data)\n",
    "w_ref = N_bkg*1./N_ref"
   ]
  },
  {
   "cell_type": "code",
   "execution_count": 60,
   "id": "55c70d61-b30a-4adf-b98f-9dbdf8c83dbf",
   "metadata": {
    "collapsed": true,
    "jupyter": {
     "outputs_hidden": true
    },
    "tags": []
   },
   "outputs": [
    {
     "name": "stdout",
     "output_type": "stream",
     "text": [
      "Start running toys\n"
     ]
    },
    {
     "name": "stderr",
     "output_type": "stream",
     "text": [
      "  0%|          | 0/100 [00:00<?, ?it/s]"
     ]
    },
    {
     "name": "stdout",
     "output_type": "stream",
     "text": [
      "Iteration 0 - penalty 1.000000e-06 - sub-iterations 1000000\n"
     ]
    },
    {
     "name": "stderr",
     "output_type": "stream",
     "text": [
      "  1%|          | 1/100 [00:00<00:31,  3.10it/s]"
     ]
    },
    {
     "name": "stdout",
     "output_type": "stream",
     "text": [
      "toy 85856\n",
      "---LRT = 47.33983999042516\n",
      "---Time = 0.05 sec\n",
      "\t\n",
      "Iteration 0 - penalty 1.000000e-06 - sub-iterations 1000000\n"
     ]
    },
    {
     "name": "stderr",
     "output_type": "stream",
     "text": [
      "  2%|▏         | 2/100 [00:00<00:32,  2.99it/s]"
     ]
    },
    {
     "name": "stdout",
     "output_type": "stream",
     "text": [
      "toy 96114\n",
      "---LRT = 25.854207785979796\n",
      "---Time = 0.04 sec\n",
      "\t\n",
      "Iteration 0 - penalty 1.000000e-06 - sub-iterations 1000000\n"
     ]
    },
    {
     "name": "stderr",
     "output_type": "stream",
     "text": [
      "  3%|▎         | 3/100 [00:00<00:31,  3.09it/s]"
     ]
    },
    {
     "name": "stdout",
     "output_type": "stream",
     "text": [
      "toy 73704\n",
      "---LRT = 29.289789181906627\n",
      "---Time = 0.04 sec\n",
      "\t\n",
      "Iteration 0 - penalty 1.000000e-06 - sub-iterations 1000000\n"
     ]
    },
    {
     "name": "stderr",
     "output_type": "stream",
     "text": [
      "  4%|▍         | 4/100 [00:01<00:30,  3.13it/s]"
     ]
    },
    {
     "name": "stdout",
     "output_type": "stream",
     "text": [
      "toy 48470\n",
      "---LRT = 31.789108079662697\n",
      "---Time = 0.04 sec\n",
      "\t\n",
      "Iteration 0 - penalty 1.000000e-06 - sub-iterations 1000000\n"
     ]
    },
    {
     "name": "stderr",
     "output_type": "stream",
     "text": [
      "  5%|▌         | 5/100 [00:01<00:30,  3.15it/s]"
     ]
    },
    {
     "name": "stdout",
     "output_type": "stream",
     "text": [
      "toy 71461\n",
      "---LRT = 32.51670640846555\n",
      "---Time = 0.04 sec\n",
      "\t\n",
      "Iteration 0 - penalty 1.000000e-06 - sub-iterations 1000000\n"
     ]
    },
    {
     "name": "stderr",
     "output_type": "stream",
     "text": [
      "  6%|▌         | 6/100 [00:01<00:29,  3.19it/s]"
     ]
    },
    {
     "name": "stdout",
     "output_type": "stream",
     "text": [
      "toy 6414\n",
      "---LRT = 23.92477410723555\n",
      "---Time = 0.04 sec\n",
      "\t\n",
      "Iteration 0 - penalty 1.000000e-06 - sub-iterations 1000000\n"
     ]
    },
    {
     "name": "stderr",
     "output_type": "stream",
     "text": [
      "  7%|▋         | 7/100 [00:02<00:29,  3.20it/s]"
     ]
    },
    {
     "name": "stdout",
     "output_type": "stream",
     "text": [
      "toy 23068\n",
      "---LRT = 59.32798724997912\n",
      "---Time = 0.04 sec\n",
      "\t\n",
      "Iteration 0 - penalty 1.000000e-06 - sub-iterations 1000000\n"
     ]
    },
    {
     "name": "stderr",
     "output_type": "stream",
     "text": [
      "  8%|▊         | 8/100 [00:02<00:28,  3.19it/s]"
     ]
    },
    {
     "name": "stdout",
     "output_type": "stream",
     "text": [
      "toy 65994\n",
      "---LRT = 68.87842516984398\n",
      "---Time = 0.04 sec\n",
      "\t\n",
      "Iteration 0 - penalty 1.000000e-06 - sub-iterations 1000000\n"
     ]
    },
    {
     "name": "stderr",
     "output_type": "stream",
     "text": [
      "  9%|▉         | 9/100 [00:02<00:28,  3.18it/s]"
     ]
    },
    {
     "name": "stdout",
     "output_type": "stream",
     "text": [
      "toy 8111\n",
      "---LRT = 51.776898507029685\n",
      "---Time = 0.04 sec\n",
      "\t\n",
      "Iteration 0 - penalty 1.000000e-06 - sub-iterations 1000000\n"
     ]
    },
    {
     "name": "stderr",
     "output_type": "stream",
     "text": [
      " 10%|█         | 10/100 [00:03<00:28,  3.20it/s]"
     ]
    },
    {
     "name": "stdout",
     "output_type": "stream",
     "text": [
      "toy 39746\n",
      "---LRT = 44.86467666743333\n",
      "---Time = 0.04 sec\n",
      "\t\n",
      "Iteration 0 - penalty 1.000000e-06 - sub-iterations 1000000\n"
     ]
    },
    {
     "name": "stderr",
     "output_type": "stream",
     "text": [
      " 11%|█         | 11/100 [00:03<00:27,  3.19it/s]"
     ]
    },
    {
     "name": "stdout",
     "output_type": "stream",
     "text": [
      "toy 53852\n",
      "---LRT = 22.16497220532637\n",
      "---Time = 0.04 sec\n",
      "\t\n",
      "Iteration 0 - penalty 1.000000e-06 - sub-iterations 1000000\n"
     ]
    },
    {
     "name": "stderr",
     "output_type": "stream",
     "text": [
      " 12%|█▏        | 12/100 [00:03<00:27,  3.17it/s]"
     ]
    },
    {
     "name": "stdout",
     "output_type": "stream",
     "text": [
      "toy 35329\n",
      "---LRT = 46.04578627681519\n",
      "---Time = 0.04 sec\n",
      "\t\n",
      "Iteration 0 - penalty 1.000000e-06 - sub-iterations 1000000\n"
     ]
    },
    {
     "name": "stderr",
     "output_type": "stream",
     "text": [
      " 13%|█▎        | 13/100 [00:04<00:27,  3.17it/s]"
     ]
    },
    {
     "name": "stdout",
     "output_type": "stream",
     "text": [
      "toy 35854\n",
      "---LRT = 32.116424796672476\n",
      "---Time = 0.04 sec\n",
      "\t\n",
      "Iteration 0 - penalty 1.000000e-06 - sub-iterations 1000000\n"
     ]
    },
    {
     "name": "stderr",
     "output_type": "stream",
     "text": [
      " 14%|█▍        | 14/100 [00:04<00:27,  3.16it/s]"
     ]
    },
    {
     "name": "stdout",
     "output_type": "stream",
     "text": [
      "toy 19655\n",
      "---LRT = 50.01715424347765\n",
      "---Time = 0.04 sec\n",
      "\t\n",
      "Iteration 0 - penalty 1.000000e-06 - sub-iterations 1000000\n"
     ]
    },
    {
     "name": "stderr",
     "output_type": "stream",
     "text": [
      " 15%|█▌        | 15/100 [00:04<00:26,  3.17it/s]"
     ]
    },
    {
     "name": "stdout",
     "output_type": "stream",
     "text": [
      "toy 95147\n",
      "---LRT = 35.164916812129945\n",
      "---Time = 0.04 sec\n",
      "\t\n",
      "Iteration 0 - penalty 1.000000e-06 - sub-iterations 1000000\n"
     ]
    },
    {
     "name": "stderr",
     "output_type": "stream",
     "text": [
      " 16%|█▌        | 16/100 [00:05<00:26,  3.16it/s]"
     ]
    },
    {
     "name": "stdout",
     "output_type": "stream",
     "text": [
      "toy 51233\n",
      "---LRT = 28.29042425392689\n",
      "---Time = 0.04 sec\n",
      "\t\n",
      "Iteration 0 - penalty 1.000000e-06 - sub-iterations 1000000\n"
     ]
    },
    {
     "name": "stderr",
     "output_type": "stream",
     "text": [
      " 17%|█▋        | 17/100 [00:05<00:26,  3.17it/s]"
     ]
    },
    {
     "name": "stdout",
     "output_type": "stream",
     "text": [
      "toy 87376\n",
      "---LRT = 20.8403555428975\n",
      "---Time = 0.04 sec\n",
      "\t\n",
      "Iteration 0 - penalty 1.000000e-06 - sub-iterations 1000000\n"
     ]
    },
    {
     "name": "stderr",
     "output_type": "stream",
     "text": [
      " 18%|█▊        | 18/100 [00:05<00:25,  3.17it/s]"
     ]
    },
    {
     "name": "stdout",
     "output_type": "stream",
     "text": [
      "toy 46990\n",
      "---LRT = 40.23520134767074\n",
      "---Time = 0.04 sec\n",
      "\t\n",
      "Iteration 0 - penalty 1.000000e-06 - sub-iterations 1000000\n"
     ]
    },
    {
     "name": "stderr",
     "output_type": "stream",
     "text": [
      " 19%|█▉        | 19/100 [00:06<00:25,  3.16it/s]"
     ]
    },
    {
     "name": "stdout",
     "output_type": "stream",
     "text": [
      "toy 59367\n",
      "---LRT = 37.75830157390533\n",
      "---Time = 0.04 sec\n",
      "\t\n",
      "Iteration 0 - penalty 1.000000e-06 - sub-iterations 1000000\n"
     ]
    },
    {
     "name": "stderr",
     "output_type": "stream",
     "text": [
      " 20%|██        | 20/100 [00:06<00:25,  3.19it/s]"
     ]
    },
    {
     "name": "stdout",
     "output_type": "stream",
     "text": [
      "toy 81134\n",
      "---LRT = 34.574432125862245\n",
      "---Time = 0.04 sec\n",
      "\t\n",
      "Iteration 0 - penalty 1.000000e-06 - sub-iterations 1000000\n"
     ]
    },
    {
     "name": "stderr",
     "output_type": "stream",
     "text": [
      " 21%|██        | 21/100 [00:06<00:24,  3.22it/s]"
     ]
    },
    {
     "name": "stdout",
     "output_type": "stream",
     "text": [
      "toy 86246\n",
      "---LRT = 38.62857810899243\n",
      "---Time = 0.04 sec\n",
      "\t\n",
      "Iteration 0 - penalty 1.000000e-06 - sub-iterations 1000000\n"
     ]
    },
    {
     "name": "stderr",
     "output_type": "stream",
     "text": [
      " 22%|██▏       | 22/100 [00:06<00:24,  3.23it/s]"
     ]
    },
    {
     "name": "stdout",
     "output_type": "stream",
     "text": [
      "toy 39109\n",
      "---LRT = 83.58372953026509\n",
      "---Time = 0.04 sec\n",
      "\t\n",
      "Iteration 0 - penalty 1.000000e-06 - sub-iterations 1000000\n"
     ]
    },
    {
     "name": "stderr",
     "output_type": "stream",
     "text": [
      " 23%|██▎       | 23/100 [00:07<00:23,  3.24it/s]"
     ]
    },
    {
     "name": "stdout",
     "output_type": "stream",
     "text": [
      "toy 8325\n",
      "---LRT = 31.712282896225247\n",
      "---Time = 0.04 sec\n",
      "\t\n",
      "Iteration 0 - penalty 1.000000e-06 - sub-iterations 1000000\n"
     ]
    },
    {
     "name": "stderr",
     "output_type": "stream",
     "text": [
      " 24%|██▍       | 24/100 [00:07<00:23,  3.24it/s]"
     ]
    },
    {
     "name": "stdout",
     "output_type": "stream",
     "text": [
      "toy 85911\n",
      "---LRT = 30.562041405216377\n",
      "---Time = 0.03 sec\n",
      "\t\n",
      "Iteration 0 - penalty 1.000000e-06 - sub-iterations 1000000\n"
     ]
    },
    {
     "name": "stderr",
     "output_type": "stream",
     "text": [
      " 25%|██▌       | 25/100 [00:07<00:23,  3.23it/s]"
     ]
    },
    {
     "name": "stdout",
     "output_type": "stream",
     "text": [
      "toy 41541\n",
      "---LRT = 31.987168155788822\n",
      "---Time = 0.03 sec\n",
      "\t\n",
      "Iteration 0 - penalty 1.000000e-06 - sub-iterations 1000000\n"
     ]
    },
    {
     "name": "stderr",
     "output_type": "stream",
     "text": [
      " 26%|██▌       | 26/100 [00:08<00:22,  3.23it/s]"
     ]
    },
    {
     "name": "stdout",
     "output_type": "stream",
     "text": [
      "toy 47885\n",
      "---LRT = 54.740413665676016\n",
      "---Time = 0.04 sec\n",
      "\t\n",
      "Iteration 0 - penalty 1.000000e-06 - sub-iterations 1000000\n"
     ]
    },
    {
     "name": "stderr",
     "output_type": "stream",
     "text": [
      " 27%|██▋       | 27/100 [00:08<00:22,  3.23it/s]"
     ]
    },
    {
     "name": "stdout",
     "output_type": "stream",
     "text": [
      "toy 19712\n",
      "---LRT = 48.10392785607715\n",
      "---Time = 0.04 sec\n",
      "\t\n",
      "Iteration 0 - penalty 1.000000e-06 - sub-iterations 1000000\n"
     ]
    },
    {
     "name": "stderr",
     "output_type": "stream",
     "text": [
      " 28%|██▊       | 28/100 [00:08<00:22,  3.23it/s]"
     ]
    },
    {
     "name": "stdout",
     "output_type": "stream",
     "text": [
      "toy 39870\n",
      "---LRT = 62.93098147249134\n",
      "---Time = 0.04 sec\n",
      "\t\n",
      "Iteration 0 - penalty 1.000000e-06 - sub-iterations 1000000\n"
     ]
    },
    {
     "name": "stderr",
     "output_type": "stream",
     "text": [
      " 29%|██▉       | 29/100 [00:09<00:22,  3.23it/s]"
     ]
    },
    {
     "name": "stdout",
     "output_type": "stream",
     "text": [
      "toy 66112\n",
      "---LRT = 84.96321856451311\n",
      "---Time = 0.04 sec\n",
      "\t\n",
      "Iteration 0 - penalty 1.000000e-06 - sub-iterations 1000000\n"
     ]
    },
    {
     "name": "stderr",
     "output_type": "stream",
     "text": [
      " 30%|███       | 30/100 [00:09<00:21,  3.23it/s]"
     ]
    },
    {
     "name": "stdout",
     "output_type": "stream",
     "text": [
      "toy 38733\n",
      "---LRT = 38.562770725953825\n",
      "---Time = 0.04 sec\n",
      "\t\n",
      "Iteration 0 - penalty 1.000000e-06 - sub-iterations 1000000\n"
     ]
    },
    {
     "name": "stderr",
     "output_type": "stream",
     "text": [
      " 31%|███       | 31/100 [00:09<00:21,  3.23it/s]"
     ]
    },
    {
     "name": "stdout",
     "output_type": "stream",
     "text": [
      "toy 36083\n",
      "---LRT = 35.04564574386815\n",
      "---Time = 0.04 sec\n",
      "\t\n",
      "Iteration 0 - penalty 1.000000e-06 - sub-iterations 1000000\n"
     ]
    },
    {
     "name": "stderr",
     "output_type": "stream",
     "text": [
      " 32%|███▏      | 32/100 [00:10<00:21,  3.23it/s]"
     ]
    },
    {
     "name": "stdout",
     "output_type": "stream",
     "text": [
      "toy 79196\n",
      "---LRT = 38.76634076661588\n",
      "---Time = 0.04 sec\n",
      "\t\n",
      "Iteration 0 - penalty 1.000000e-06 - sub-iterations 1000000\n"
     ]
    },
    {
     "name": "stderr",
     "output_type": "stream",
     "text": [
      " 33%|███▎      | 33/100 [00:10<00:20,  3.23it/s]"
     ]
    },
    {
     "name": "stdout",
     "output_type": "stream",
     "text": [
      "toy 32042\n",
      "---LRT = 46.808701571371216\n",
      "---Time = 0.04 sec\n",
      "\t\n",
      "Iteration 0 - penalty 1.000000e-06 - sub-iterations 1000000\n"
     ]
    },
    {
     "name": "stderr",
     "output_type": "stream",
     "text": [
      " 34%|███▍      | 34/100 [00:10<00:20,  3.22it/s]"
     ]
    },
    {
     "name": "stdout",
     "output_type": "stream",
     "text": [
      "toy 6581\n",
      "---LRT = 55.735651390218095\n",
      "---Time = 0.04 sec\n",
      "\t\n",
      "Iteration 0 - penalty 1.000000e-06 - sub-iterations 1000000\n"
     ]
    },
    {
     "name": "stderr",
     "output_type": "stream",
     "text": [
      " 35%|███▌      | 35/100 [00:10<00:20,  3.21it/s]"
     ]
    },
    {
     "name": "stdout",
     "output_type": "stream",
     "text": [
      "toy 71441\n",
      "---LRT = 33.722647418414866\n",
      "---Time = 0.04 sec\n",
      "\t\n",
      "Iteration 0 - penalty 1.000000e-06 - sub-iterations 1000000\n"
     ]
    },
    {
     "name": "stderr",
     "output_type": "stream",
     "text": [
      " 36%|███▌      | 36/100 [00:11<00:19,  3.24it/s]"
     ]
    },
    {
     "name": "stdout",
     "output_type": "stream",
     "text": [
      "toy 44725\n",
      "---LRT = 38.49061454815768\n",
      "---Time = 0.04 sec\n",
      "\t\n",
      "Iteration 0 - penalty 1.000000e-06 - sub-iterations 1000000\n"
     ]
    },
    {
     "name": "stderr",
     "output_type": "stream",
     "text": [
      " 37%|███▋      | 37/100 [00:11<00:19,  3.25it/s]"
     ]
    },
    {
     "name": "stdout",
     "output_type": "stream",
     "text": [
      "toy 82000\n",
      "---LRT = 56.211294972628366\n",
      "---Time = 0.04 sec\n",
      "\t\n",
      "Iteration 0 - penalty 1.000000e-06 - sub-iterations 1000000\n"
     ]
    },
    {
     "name": "stderr",
     "output_type": "stream",
     "text": [
      " 38%|███▊      | 38/100 [00:11<00:19,  3.24it/s]"
     ]
    },
    {
     "name": "stdout",
     "output_type": "stream",
     "text": [
      "toy 46917\n",
      "---LRT = 43.9963547989116\n",
      "---Time = 0.04 sec\n",
      "\t\n",
      "Iteration 0 - penalty 1.000000e-06 - sub-iterations 1000000\n"
     ]
    },
    {
     "name": "stderr",
     "output_type": "stream",
     "text": [
      " 39%|███▉      | 39/100 [00:12<00:18,  3.25it/s]"
     ]
    },
    {
     "name": "stdout",
     "output_type": "stream",
     "text": [
      "toy 9583\n",
      "---LRT = 37.38618968890371\n",
      "---Time = 0.04 sec\n",
      "\t\n",
      "Iteration 0 - penalty 1.000000e-06 - sub-iterations 1000000\n"
     ]
    },
    {
     "name": "stderr",
     "output_type": "stream",
     "text": [
      " 40%|████      | 40/100 [00:12<00:18,  3.24it/s]"
     ]
    },
    {
     "name": "stdout",
     "output_type": "stream",
     "text": [
      "toy 35243\n",
      "---LRT = 38.5281109416066\n",
      "---Time = 0.04 sec\n",
      "\t\n",
      "Iteration 0 - penalty 1.000000e-06 - sub-iterations 1000000\n"
     ]
    },
    {
     "name": "stderr",
     "output_type": "stream",
     "text": [
      " 41%|████      | 41/100 [00:12<00:18,  3.23it/s]"
     ]
    },
    {
     "name": "stdout",
     "output_type": "stream",
     "text": [
      "toy 78165\n",
      "---LRT = 55.757599865081204\n",
      "---Time = 0.04 sec\n",
      "\t\n",
      "Iteration 0 - penalty 1.000000e-06 - sub-iterations 1000000\n"
     ]
    },
    {
     "name": "stderr",
     "output_type": "stream",
     "text": [
      " 42%|████▏     | 42/100 [00:13<00:17,  3.23it/s]"
     ]
    },
    {
     "name": "stdout",
     "output_type": "stream",
     "text": [
      "toy 82962\n",
      "---LRT = 54.31784532745462\n",
      "---Time = 0.04 sec\n",
      "\t\n",
      "Iteration 0 - penalty 1.000000e-06 - sub-iterations 1000000\n"
     ]
    },
    {
     "name": "stderr",
     "output_type": "stream",
     "text": [
      " 43%|████▎     | 43/100 [00:13<00:17,  3.25it/s]"
     ]
    },
    {
     "name": "stdout",
     "output_type": "stream",
     "text": [
      "toy 63581\n",
      "---LRT = 41.66083546365178\n",
      "---Time = 0.04 sec\n",
      "\t\n",
      "Iteration 0 - penalty 1.000000e-06 - sub-iterations 1000000\n"
     ]
    },
    {
     "name": "stderr",
     "output_type": "stream",
     "text": [
      " 44%|████▍     | 44/100 [00:13<00:17,  3.21it/s]"
     ]
    },
    {
     "name": "stdout",
     "output_type": "stream",
     "text": [
      "toy 38856\n",
      "---LRT = 42.706946372931526\n",
      "---Time = 0.05 sec\n",
      "\t\n",
      "Iteration 0 - penalty 1.000000e-06 - sub-iterations 1000000\n"
     ]
    },
    {
     "name": "stderr",
     "output_type": "stream",
     "text": [
      " 45%|████▌     | 45/100 [00:14<00:17,  3.23it/s]"
     ]
    },
    {
     "name": "stdout",
     "output_type": "stream",
     "text": [
      "toy 12022\n",
      "---LRT = 41.8049979841002\n",
      "---Time = 0.04 sec\n",
      "\t\n",
      "Iteration 0 - penalty 1.000000e-06 - sub-iterations 1000000\n"
     ]
    },
    {
     "name": "stderr",
     "output_type": "stream",
     "text": [
      " 46%|████▌     | 46/100 [00:14<00:16,  3.25it/s]"
     ]
    },
    {
     "name": "stdout",
     "output_type": "stream",
     "text": [
      "toy 60804\n",
      "---LRT = 74.00168799290233\n",
      "---Time = 0.04 sec\n",
      "\t\n",
      "Iteration 0 - penalty 1.000000e-06 - sub-iterations 1000000\n"
     ]
    },
    {
     "name": "stderr",
     "output_type": "stream",
     "text": [
      " 47%|████▋     | 47/100 [00:14<00:16,  3.25it/s]"
     ]
    },
    {
     "name": "stdout",
     "output_type": "stream",
     "text": [
      "toy 91622\n",
      "---LRT = 48.54251712684734\n",
      "---Time = 0.04 sec\n",
      "\t\n",
      "Iteration 0 - penalty 1.000000e-06 - sub-iterations 1000000\n"
     ]
    },
    {
     "name": "stderr",
     "output_type": "stream",
     "text": [
      " 48%|████▊     | 48/100 [00:14<00:16,  3.24it/s]"
     ]
    },
    {
     "name": "stdout",
     "output_type": "stream",
     "text": [
      "toy 56133\n",
      "---LRT = 26.48327175273718\n",
      "---Time = 0.04 sec\n",
      "\t\n",
      "Iteration 0 - penalty 1.000000e-06 - sub-iterations 1000000\n"
     ]
    },
    {
     "name": "stderr",
     "output_type": "stream",
     "text": [
      " 49%|████▉     | 49/100 [00:15<00:15,  3.22it/s]"
     ]
    },
    {
     "name": "stdout",
     "output_type": "stream",
     "text": [
      "toy 22403\n",
      "---LRT = 32.60701836711249\n",
      "---Time = 0.04 sec\n",
      "\t\n",
      "Iteration 0 - penalty 1.000000e-06 - sub-iterations 1000000\n"
     ]
    },
    {
     "name": "stderr",
     "output_type": "stream",
     "text": [
      " 50%|█████     | 50/100 [00:15<00:15,  3.24it/s]"
     ]
    },
    {
     "name": "stdout",
     "output_type": "stream",
     "text": [
      "toy 23143\n",
      "---LRT = 37.36021129741437\n",
      "---Time = 0.04 sec\n",
      "\t\n",
      "Iteration 0 - penalty 1.000000e-06 - sub-iterations 1000000\n"
     ]
    },
    {
     "name": "stderr",
     "output_type": "stream",
     "text": [
      " 51%|█████     | 51/100 [00:15<00:15,  3.24it/s]"
     ]
    },
    {
     "name": "stdout",
     "output_type": "stream",
     "text": [
      "toy 39928\n",
      "---LRT = 27.098722310512755\n",
      "---Time = 0.04 sec\n",
      "\t\n",
      "Iteration 0 - penalty 1.000000e-06 - sub-iterations 1000000\n"
     ]
    },
    {
     "name": "stderr",
     "output_type": "stream",
     "text": [
      " 52%|█████▏    | 52/100 [00:16<00:14,  3.24it/s]"
     ]
    },
    {
     "name": "stdout",
     "output_type": "stream",
     "text": [
      "toy 74654\n",
      "---LRT = 37.17258599032874\n",
      "---Time = 0.04 sec\n",
      "\t\n",
      "Iteration 0 - penalty 1.000000e-06 - sub-iterations 1000000\n"
     ]
    },
    {
     "name": "stderr",
     "output_type": "stream",
     "text": [
      " 53%|█████▎    | 53/100 [00:16<00:14,  3.24it/s]"
     ]
    },
    {
     "name": "stdout",
     "output_type": "stream",
     "text": [
      "toy 1557\n",
      "---LRT = 47.556845617265196\n",
      "---Time = 0.04 sec\n",
      "\t\n",
      "Iteration 0 - penalty 1.000000e-06 - sub-iterations 1000000\n"
     ]
    },
    {
     "name": "stderr",
     "output_type": "stream",
     "text": [
      " 54%|█████▍    | 54/100 [00:16<00:14,  3.24it/s]"
     ]
    },
    {
     "name": "stdout",
     "output_type": "stream",
     "text": [
      "toy 74270\n",
      "---LRT = 62.03858926808064\n",
      "---Time = 0.04 sec\n",
      "\t\n",
      "Iteration 0 - penalty 1.000000e-06 - sub-iterations 1000000\n"
     ]
    },
    {
     "name": "stderr",
     "output_type": "stream",
     "text": [
      " 55%|█████▌    | 55/100 [00:17<00:13,  3.22it/s]"
     ]
    },
    {
     "name": "stdout",
     "output_type": "stream",
     "text": [
      "toy 53042\n",
      "---LRT = 32.90672523884734\n",
      "---Time = 0.04 sec\n",
      "\t\n",
      "Iteration 0 - penalty 1.000000e-06 - sub-iterations 1000000\n"
     ]
    },
    {
     "name": "stderr",
     "output_type": "stream",
     "text": [
      " 56%|█████▌    | 56/100 [00:17<00:13,  3.20it/s]"
     ]
    },
    {
     "name": "stdout",
     "output_type": "stream",
     "text": [
      "toy 84057\n",
      "---LRT = 69.1698359033835\n",
      "---Time = 0.04 sec\n",
      "\t\n",
      "Iteration 0 - penalty 1.000000e-06 - sub-iterations 1000000\n"
     ]
    },
    {
     "name": "stderr",
     "output_type": "stream",
     "text": [
      " 57%|█████▋    | 57/100 [00:17<00:13,  3.18it/s]"
     ]
    },
    {
     "name": "stdout",
     "output_type": "stream",
     "text": [
      "toy 99565\n",
      "---LRT = 47.4216554861227\n",
      "---Time = 0.04 sec\n",
      "\t\n",
      "Iteration 0 - penalty 1.000000e-06 - sub-iterations 1000000\n"
     ]
    },
    {
     "name": "stderr",
     "output_type": "stream",
     "text": [
      " 58%|█████▊    | 58/100 [00:18<00:13,  3.18it/s]"
     ]
    },
    {
     "name": "stdout",
     "output_type": "stream",
     "text": [
      "toy 18052\n",
      "---LRT = 56.21252369413608\n",
      "---Time = 0.04 sec\n",
      "\t\n",
      "Iteration 0 - penalty 1.000000e-06 - sub-iterations 1000000\n"
     ]
    },
    {
     "name": "stderr",
     "output_type": "stream",
     "text": [
      " 59%|█████▉    | 59/100 [00:18<00:12,  3.19it/s]"
     ]
    },
    {
     "name": "stdout",
     "output_type": "stream",
     "text": [
      "toy 1426\n",
      "---LRT = 60.345760217528834\n",
      "---Time = 0.04 sec\n",
      "\t\n",
      "Iteration 0 - penalty 1.000000e-06 - sub-iterations 1000000\n"
     ]
    },
    {
     "name": "stderr",
     "output_type": "stream",
     "text": [
      " 60%|██████    | 60/100 [00:18<00:12,  3.19it/s]"
     ]
    },
    {
     "name": "stdout",
     "output_type": "stream",
     "text": [
      "toy 83426\n",
      "---LRT = 59.55064181571868\n",
      "---Time = 0.04 sec\n",
      "\t\n",
      "Iteration 0 - penalty 1.000000e-06 - sub-iterations 1000000\n"
     ]
    },
    {
     "name": "stderr",
     "output_type": "stream",
     "text": [
      " 61%|██████    | 61/100 [00:19<00:12,  3.18it/s]"
     ]
    },
    {
     "name": "stdout",
     "output_type": "stream",
     "text": [
      "toy 88824\n",
      "---LRT = 65.93542949624467\n",
      "---Time = 0.04 sec\n",
      "\t\n",
      "Iteration 0 - penalty 1.000000e-06 - sub-iterations 1000000\n"
     ]
    },
    {
     "name": "stderr",
     "output_type": "stream",
     "text": [
      " 62%|██████▏   | 62/100 [00:19<00:11,  3.18it/s]"
     ]
    },
    {
     "name": "stdout",
     "output_type": "stream",
     "text": [
      "toy 34263\n",
      "---LRT = 32.515242967075125\n",
      "---Time = 0.04 sec\n",
      "\t\n",
      "Iteration 0 - penalty 1.000000e-06 - sub-iterations 1000000\n"
     ]
    },
    {
     "name": "stderr",
     "output_type": "stream",
     "text": [
      " 63%|██████▎   | 63/100 [00:19<00:11,  3.17it/s]"
     ]
    },
    {
     "name": "stdout",
     "output_type": "stream",
     "text": [
      "toy 76670\n",
      "---LRT = 35.25933268179776\n",
      "---Time = 0.04 sec\n",
      "\t\n",
      "Iteration 0 - penalty 1.000000e-06 - sub-iterations 1000000\n"
     ]
    },
    {
     "name": "stderr",
     "output_type": "stream",
     "text": [
      " 64%|██████▍   | 64/100 [00:19<00:11,  3.18it/s]"
     ]
    },
    {
     "name": "stdout",
     "output_type": "stream",
     "text": [
      "toy 41497\n",
      "---LRT = 60.40901812533059\n",
      "---Time = 0.04 sec\n",
      "\t\n",
      "Iteration 0 - penalty 1.000000e-06 - sub-iterations 1000000\n"
     ]
    },
    {
     "name": "stderr",
     "output_type": "stream",
     "text": [
      " 65%|██████▌   | 65/100 [00:20<00:10,  3.20it/s]"
     ]
    },
    {
     "name": "stdout",
     "output_type": "stream",
     "text": [
      "toy 42170\n",
      "---LRT = 44.38623580544504\n",
      "---Time = 0.04 sec\n",
      "\t\n",
      "Iteration 0 - penalty 1.000000e-06 - sub-iterations 1000000\n"
     ]
    },
    {
     "name": "stderr",
     "output_type": "stream",
     "text": [
      " 66%|██████▌   | 66/100 [00:20<00:10,  3.22it/s]"
     ]
    },
    {
     "name": "stdout",
     "output_type": "stream",
     "text": [
      "toy 22799\n",
      "---LRT = 72.10283694463016\n",
      "---Time = 0.04 sec\n",
      "\t\n",
      "Iteration 0 - penalty 1.000000e-06 - sub-iterations 1000000\n"
     ]
    },
    {
     "name": "stderr",
     "output_type": "stream",
     "text": [
      " 67%|██████▋   | 67/100 [00:20<00:10,  3.25it/s]"
     ]
    },
    {
     "name": "stdout",
     "output_type": "stream",
     "text": [
      "toy 10851\n",
      "---LRT = 49.35872050857975\n",
      "---Time = 0.04 sec\n",
      "\t\n",
      "Iteration 0 - penalty 1.000000e-06 - sub-iterations 1000000\n"
     ]
    },
    {
     "name": "stderr",
     "output_type": "stream",
     "text": [
      " 68%|██████▊   | 68/100 [00:21<00:09,  3.24it/s]"
     ]
    },
    {
     "name": "stdout",
     "output_type": "stream",
     "text": [
      "toy 19168\n",
      "---LRT = 52.369050111486956\n",
      "---Time = 0.04 sec\n",
      "\t\n",
      "Iteration 0 - penalty 1.000000e-06 - sub-iterations 1000000\n"
     ]
    },
    {
     "name": "stderr",
     "output_type": "stream",
     "text": [
      " 69%|██████▉   | 69/100 [00:21<00:09,  3.25it/s]"
     ]
    },
    {
     "name": "stdout",
     "output_type": "stream",
     "text": [
      "toy 57335\n",
      "---LRT = 32.61784523921642\n",
      "---Time = 0.03 sec\n",
      "\t\n",
      "Iteration 0 - penalty 1.000000e-06 - sub-iterations 1000000\n"
     ]
    },
    {
     "name": "stderr",
     "output_type": "stream",
     "text": [
      " 70%|███████   | 70/100 [00:21<00:09,  3.23it/s]"
     ]
    },
    {
     "name": "stdout",
     "output_type": "stream",
     "text": [
      "toy 83533\n",
      "---LRT = 26.858406197734254\n",
      "---Time = 0.04 sec\n",
      "\t\n",
      "Iteration 0 - penalty 1.000000e-06 - sub-iterations 1000000\n"
     ]
    },
    {
     "name": "stderr",
     "output_type": "stream",
     "text": [
      " 71%|███████   | 71/100 [00:22<00:08,  3.24it/s]"
     ]
    },
    {
     "name": "stdout",
     "output_type": "stream",
     "text": [
      "toy 64457\n",
      "---LRT = 20.33874515776523\n",
      "---Time = 0.04 sec\n",
      "\t\n",
      "Iteration 0 - penalty 1.000000e-06 - sub-iterations 1000000\n"
     ]
    },
    {
     "name": "stderr",
     "output_type": "stream",
     "text": [
      " 72%|███████▏  | 72/100 [00:22<00:08,  3.24it/s]"
     ]
    },
    {
     "name": "stdout",
     "output_type": "stream",
     "text": [
      "toy 20598\n",
      "---LRT = 31.067883524119168\n",
      "---Time = 0.04 sec\n",
      "\t\n",
      "Iteration 0 - penalty 1.000000e-06 - sub-iterations 1000000\n"
     ]
    },
    {
     "name": "stderr",
     "output_type": "stream",
     "text": [
      " 73%|███████▎  | 73/100 [00:22<00:08,  3.24it/s]"
     ]
    },
    {
     "name": "stdout",
     "output_type": "stream",
     "text": [
      "toy 10377\n",
      "---LRT = 51.826566311128715\n",
      "---Time = 0.04 sec\n",
      "\t\n",
      "Iteration 0 - penalty 1.000000e-06 - sub-iterations 1000000\n"
     ]
    },
    {
     "name": "stderr",
     "output_type": "stream",
     "text": [
      " 74%|███████▍  | 74/100 [00:23<00:08,  3.24it/s]"
     ]
    },
    {
     "name": "stdout",
     "output_type": "stream",
     "text": [
      "toy 53049\n",
      "---LRT = 59.10915431723339\n",
      "---Time = 0.04 sec\n",
      "\t\n",
      "Iteration 0 - penalty 1.000000e-06 - sub-iterations 1000000\n"
     ]
    },
    {
     "name": "stderr",
     "output_type": "stream",
     "text": [
      " 75%|███████▌  | 75/100 [00:23<00:07,  3.25it/s]"
     ]
    },
    {
     "name": "stdout",
     "output_type": "stream",
     "text": [
      "toy 25394\n",
      "---LRT = 22.848379393623333\n",
      "---Time = 0.04 sec\n",
      "\t\n",
      "Iteration 0 - penalty 1.000000e-06 - sub-iterations 1000000\n"
     ]
    },
    {
     "name": "stderr",
     "output_type": "stream",
     "text": [
      " 76%|███████▌  | 76/100 [00:23<00:07,  3.23it/s]"
     ]
    },
    {
     "name": "stdout",
     "output_type": "stream",
     "text": [
      "toy 58074\n",
      "---LRT = 63.44790358769001\n",
      "---Time = 0.04 sec\n",
      "\t\n",
      "Iteration 0 - penalty 1.000000e-06 - sub-iterations 1000000\n"
     ]
    },
    {
     "name": "stderr",
     "output_type": "stream",
     "text": [
      " 77%|███████▋  | 77/100 [00:23<00:07,  3.21it/s]"
     ]
    },
    {
     "name": "stdout",
     "output_type": "stream",
     "text": [
      "toy 52871\n",
      "---LRT = 54.622737998976106\n",
      "---Time = 0.05 sec\n",
      "\t\n",
      "Iteration 0 - penalty 1.000000e-06 - sub-iterations 1000000\n"
     ]
    },
    {
     "name": "stderr",
     "output_type": "stream",
     "text": [
      " 78%|███████▊  | 78/100 [00:24<00:06,  3.23it/s]"
     ]
    },
    {
     "name": "stdout",
     "output_type": "stream",
     "text": [
      "toy 65706\n",
      "---LRT = 66.23495220919355\n",
      "---Time = 0.04 sec\n",
      "\t\n",
      "Iteration 0 - penalty 1.000000e-06 - sub-iterations 1000000\n"
     ]
    },
    {
     "name": "stderr",
     "output_type": "stream",
     "text": [
      " 79%|███████▉  | 79/100 [00:24<00:06,  3.25it/s]"
     ]
    },
    {
     "name": "stdout",
     "output_type": "stream",
     "text": [
      "toy 96975\n",
      "---LRT = 40.6560381571997\n",
      "---Time = 0.04 sec\n",
      "\t\n",
      "Iteration 0 - penalty 1.000000e-06 - sub-iterations 1000000\n"
     ]
    },
    {
     "name": "stderr",
     "output_type": "stream",
     "text": [
      " 80%|████████  | 80/100 [00:24<00:06,  3.23it/s]"
     ]
    },
    {
     "name": "stdout",
     "output_type": "stream",
     "text": [
      "toy 60155\n",
      "---LRT = 38.97448692467603\n",
      "---Time = 0.04 sec\n",
      "\t\n",
      "Iteration 0 - penalty 1.000000e-06 - sub-iterations 1000000\n"
     ]
    },
    {
     "name": "stderr",
     "output_type": "stream",
     "text": [
      " 81%|████████  | 81/100 [00:25<00:05,  3.25it/s]"
     ]
    },
    {
     "name": "stdout",
     "output_type": "stream",
     "text": [
      "toy 28395\n",
      "---LRT = 28.20145630403431\n",
      "---Time = 0.04 sec\n",
      "\t\n",
      "Iteration 0 - penalty 1.000000e-06 - sub-iterations 1000000\n"
     ]
    },
    {
     "name": "stderr",
     "output_type": "stream",
     "text": [
      " 82%|████████▏ | 82/100 [00:25<00:05,  3.26it/s]"
     ]
    },
    {
     "name": "stdout",
     "output_type": "stream",
     "text": [
      "toy 93482\n",
      "---LRT = 64.4840872271734\n",
      "---Time = 0.04 sec\n",
      "\t\n",
      "Iteration 0 - penalty 1.000000e-06 - sub-iterations 1000000\n"
     ]
    },
    {
     "name": "stderr",
     "output_type": "stream",
     "text": [
      " 83%|████████▎ | 83/100 [00:25<00:05,  3.26it/s]"
     ]
    },
    {
     "name": "stdout",
     "output_type": "stream",
     "text": [
      "toy 34820\n",
      "---LRT = 58.21084968627784\n",
      "---Time = 0.04 sec\n",
      "\t\n",
      "Iteration 0 - penalty 1.000000e-06 - sub-iterations 1000000\n"
     ]
    },
    {
     "name": "stderr",
     "output_type": "stream",
     "text": [
      " 84%|████████▍ | 84/100 [00:26<00:04,  3.25it/s]"
     ]
    },
    {
     "name": "stdout",
     "output_type": "stream",
     "text": [
      "toy 6525\n",
      "---LRT = 29.43668598742005\n",
      "---Time = 0.04 sec\n",
      "\t\n",
      "Iteration 0 - penalty 1.000000e-06 - sub-iterations 1000000\n"
     ]
    },
    {
     "name": "stderr",
     "output_type": "stream",
     "text": [
      " 85%|████████▌ | 85/100 [00:26<00:04,  3.25it/s]"
     ]
    },
    {
     "name": "stdout",
     "output_type": "stream",
     "text": [
      "toy 97708\n",
      "---LRT = 56.84757769883919\n",
      "---Time = 0.04 sec\n",
      "\t\n",
      "Iteration 0 - penalty 1.000000e-06 - sub-iterations 1000000\n"
     ]
    },
    {
     "name": "stderr",
     "output_type": "stream",
     "text": [
      " 86%|████████▌ | 86/100 [00:26<00:04,  3.26it/s]"
     ]
    },
    {
     "name": "stdout",
     "output_type": "stream",
     "text": [
      "toy 68586\n",
      "---LRT = 26.5111685734457\n",
      "---Time = 0.04 sec\n",
      "\t\n",
      "Iteration 0 - penalty 1.000000e-06 - sub-iterations 1000000\n"
     ]
    },
    {
     "name": "stderr",
     "output_type": "stream",
     "text": [
      " 87%|████████▋ | 87/100 [00:27<00:04,  3.23it/s]"
     ]
    },
    {
     "name": "stdout",
     "output_type": "stream",
     "text": [
      "toy 87561\n",
      "---LRT = 38.248145333421945\n",
      "---Time = 0.04 sec\n",
      "\t\n",
      "Iteration 0 - penalty 1.000000e-06 - sub-iterations 1000000\n"
     ]
    },
    {
     "name": "stderr",
     "output_type": "stream",
     "text": [
      " 88%|████████▊ | 88/100 [00:27<00:03,  3.22it/s]"
     ]
    },
    {
     "name": "stdout",
     "output_type": "stream",
     "text": [
      "toy 23869\n",
      "---LRT = 63.2578507648108\n",
      "---Time = 0.04 sec\n",
      "\t\n",
      "Iteration 0 - penalty 1.000000e-06 - sub-iterations 1000000\n"
     ]
    },
    {
     "name": "stderr",
     "output_type": "stream",
     "text": [
      " 89%|████████▉ | 89/100 [00:27<00:03,  3.23it/s]"
     ]
    },
    {
     "name": "stdout",
     "output_type": "stream",
     "text": [
      "toy 93494\n",
      "---LRT = 66.41232024325114\n",
      "---Time = 0.04 sec\n",
      "\t\n",
      "Iteration 0 - penalty 1.000000e-06 - sub-iterations 1000000\n"
     ]
    },
    {
     "name": "stderr",
     "output_type": "stream",
     "text": [
      " 90%|█████████ | 90/100 [00:27<00:03,  3.25it/s]"
     ]
    },
    {
     "name": "stdout",
     "output_type": "stream",
     "text": [
      "toy 295\n",
      "---LRT = 30.981009770912934\n",
      "---Time = 0.04 sec\n",
      "\t\n",
      "Iteration 0 - penalty 1.000000e-06 - sub-iterations 1000000\n"
     ]
    },
    {
     "name": "stderr",
     "output_type": "stream",
     "text": [
      " 91%|█████████ | 91/100 [00:28<00:02,  3.25it/s]"
     ]
    },
    {
     "name": "stdout",
     "output_type": "stream",
     "text": [
      "toy 35230\n",
      "---LRT = 48.56593590131328\n",
      "---Time = 0.04 sec\n",
      "\t\n",
      "Iteration 0 - penalty 1.000000e-06 - sub-iterations 1000000\n"
     ]
    },
    {
     "name": "stderr",
     "output_type": "stream",
     "text": [
      " 92%|█████████▏| 92/100 [00:28<00:02,  3.23it/s]"
     ]
    },
    {
     "name": "stdout",
     "output_type": "stream",
     "text": [
      "toy 51141\n",
      "---LRT = 71.13288500171328\n",
      "---Time = 0.04 sec\n",
      "\t\n",
      "Iteration 0 - penalty 1.000000e-06 - sub-iterations 1000000\n"
     ]
    },
    {
     "name": "stderr",
     "output_type": "stream",
     "text": [
      " 93%|█████████▎| 93/100 [00:28<00:02,  3.23it/s]"
     ]
    },
    {
     "name": "stdout",
     "output_type": "stream",
     "text": [
      "toy 74850\n",
      "---LRT = 57.44593704702942\n",
      "---Time = 0.04 sec\n",
      "\t\n",
      "Iteration 0 - penalty 1.000000e-06 - sub-iterations 1000000\n"
     ]
    },
    {
     "name": "stderr",
     "output_type": "stream",
     "text": [
      " 94%|█████████▍| 94/100 [00:29<00:01,  3.21it/s]"
     ]
    },
    {
     "name": "stdout",
     "output_type": "stream",
     "text": [
      "toy 15625\n",
      "---LRT = 53.70200596098553\n",
      "---Time = 0.04 sec\n",
      "\t\n",
      "Iteration 0 - penalty 1.000000e-06 - sub-iterations 1000000\n"
     ]
    },
    {
     "name": "stderr",
     "output_type": "stream",
     "text": [
      " 95%|█████████▌| 95/100 [00:29<00:01,  3.23it/s]"
     ]
    },
    {
     "name": "stdout",
     "output_type": "stream",
     "text": [
      "toy 42711\n",
      "---LRT = 39.09010158544811\n",
      "---Time = 0.04 sec\n",
      "\t\n",
      "Iteration 0 - penalty 1.000000e-06 - sub-iterations 1000000\n"
     ]
    },
    {
     "name": "stderr",
     "output_type": "stream",
     "text": [
      " 96%|█████████▌| 96/100 [00:29<00:01,  3.25it/s]"
     ]
    },
    {
     "name": "stdout",
     "output_type": "stream",
     "text": [
      "toy 36283\n",
      "---LRT = 42.35863642705587\n",
      "---Time = 0.04 sec\n",
      "\t\n",
      "Iteration 0 - penalty 1.000000e-06 - sub-iterations 1000000\n"
     ]
    },
    {
     "name": "stderr",
     "output_type": "stream",
     "text": [
      " 97%|█████████▋| 97/100 [00:30<00:00,  3.26it/s]"
     ]
    },
    {
     "name": "stdout",
     "output_type": "stream",
     "text": [
      "toy 45041\n",
      "---LRT = 40.67618516380466\n",
      "---Time = 0.04 sec\n",
      "\t\n",
      "Iteration 0 - penalty 1.000000e-06 - sub-iterations 1000000\n"
     ]
    },
    {
     "name": "stderr",
     "output_type": "stream",
     "text": [
      " 98%|█████████▊| 98/100 [00:30<00:00,  3.23it/s]"
     ]
    },
    {
     "name": "stdout",
     "output_type": "stream",
     "text": [
      "toy 11632\n",
      "---LRT = 38.87906508209511\n",
      "---Time = 0.04 sec\n",
      "\t\n",
      "Iteration 0 - penalty 1.000000e-06 - sub-iterations 1000000\n"
     ]
    },
    {
     "name": "stderr",
     "output_type": "stream",
     "text": [
      " 99%|█████████▉| 99/100 [00:30<00:00,  3.22it/s]"
     ]
    },
    {
     "name": "stdout",
     "output_type": "stream",
     "text": [
      "toy 85519\n",
      "---LRT = 60.972296841147454\n",
      "---Time = 0.04 sec\n",
      "\t\n",
      "Iteration 0 - penalty 1.000000e-06 - sub-iterations 1000000\n"
     ]
    },
    {
     "name": "stderr",
     "output_type": "stream",
     "text": [
      "100%|██████████| 100/100 [00:31<00:00,  3.22it/s]"
     ]
    },
    {
     "name": "stdout",
     "output_type": "stream",
     "text": [
      "toy 24400\n",
      "---LRT = 63.45469121603345\n",
      "---Time = 0.04 sec\n",
      "\t\n"
     ]
    },
    {
     "name": "stderr",
     "output_type": "stream",
     "text": [
      "\n"
     ]
    }
   ],
   "source": [
    "## run toys\n",
    "print('Start running toys')\n",
    "t1=np.array([])\n",
    "seeds = np.random.randint(low=1, high=100000, size=(Ntoys,))\n",
    "for i in tqdm(range(Ntoys)):\n",
    "    seed = seeds[i]\n",
    "    rng = np.random.default_rng(seed=seed)\n",
    "    N_bkg_p = rng.poisson(lam=N_bkg, size=1)[0]\n",
    "    N_sig_p = rng.poisson(lam=N_sig, size=1)[0]\n",
    "    rng.shuffle(features_SIG)\n",
    "    rng.shuffle(features_BKG)\n",
    "    features_s = features_SIG[:N_sig_p, :]\n",
    "    features_b = features_BKG[:N_bkg_p+N_ref, :]\n",
    "    features  = np.concatenate((features_s,features_b), axis=0)\n",
    "\n",
    "    label_R = np.zeros((N_ref,))\n",
    "    label_D = np.ones((N_bkg_p+N_sig_p, ))\n",
    "    labels  = np.concatenate((label_D,label_R), axis=0).reshape(-1,1)\n",
    "    \n",
    "    flk_config = get_logflk_config(M,flk_sigma,[lam],weight=w_ref,iter=[iterations],seed=None,cpu=False)\n",
    "    t, pred = run_toy(\"t1\", features, labels, weight=w_ref, seed=seed,\n",
    "                      flk_config=flk_config, output_path='./', plot=False, savefig=False,\n",
    "                      verbose=True)\n",
    "    \n",
    "    t1 = np.append(t1, t)"
   ]
  },
  {
   "cell_type": "markdown",
   "id": "ca3a8787-34c4-468a-8ea3-6e619557ca66",
   "metadata": {},
   "source": [
    "# Plot results"
   ]
  },
  {
   "cell_type": "code",
   "execution_count": 62,
   "id": "a882629b-455f-441e-bce1-db67bf498f71",
   "metadata": {},
   "outputs": [],
   "source": [
    "def Z_score_chi2(t,df):\n",
    "    sf = chi2.sf(t, df)\n",
    "    Z  = -norm.ppf(sf)\n",
    "    return Z\n",
    "\n",
    "def Z_score_norm(t,mu, std):\n",
    "    sf = norm.sf(t, mu, std)\n",
    "    Z  = -norm.ppf(sf)\n",
    "    return Z\n",
    "\n",
    "def plot_1distribution(t, df, xmin=0, xmax=300, nbins=10, save=False, ymax=None, output_path='', save_name='', label=''):\n",
    "    '''\n",
    "    Plot the histogram of a test statistics sample (t) and the target chi2 distribution (df must be specified!). \n",
    "    The median and the error on the median are calculated in order to calculate the median Z-score and its error.\n",
    "    '''\n",
    "    plt.rcParams[\"font.family\"] = \"serif\"\n",
    "    plt.style.use('classic')\n",
    "    fig  = plt.figure(figsize=(12, 9))\n",
    "    fig.patch.set_facecolor('white')\n",
    "    # plot distribution histogram\n",
    "    bins      = np.linspace(xmin, xmax, nbins+1)\n",
    "    Z_obs     = norm.ppf(chi2.cdf(np.median(t), df))\n",
    "    t_obs_err = 1.2533*np.std(t)*1./np.sqrt(t.shape[0])\n",
    "    Z_obs_p   = norm.ppf(chi2.cdf(np.median(t)+t_obs_err, df))\n",
    "    Z_obs_m   = norm.ppf(chi2.cdf(np.median(t)-t_obs_err, df))\n",
    "    label  = 'sample %s\\nsize: %i \\nmedian: %s, std: %s\\n'%(label, t.shape[0], str(np.around(np.median(t), 2)),str(np.around(np.std(t), 2)))\n",
    "    label += 'Z = %s (+%s/-%s)'%(str(np.around(Z_obs, 2)), str(np.around(Z_obs_p-Z_obs, 2)), str(np.around(Z_obs-Z_obs_m, 2)))\n",
    "    binswidth = (xmax-xmin)*1./nbins\n",
    "    h = plt.hist(t, weights=np.ones_like(t)*1./(t.shape[0]*binswidth), color='lightblue', ec='#2c7fb8',\n",
    "                 bins=bins, label=label)\n",
    "    err = np.sqrt(h[0]/(t.shape[0]*binswidth))\n",
    "    x   = 0.5*(bins[1:]+bins[:-1])\n",
    "    plt.errorbar(x, h[0], yerr = err, color='#2c7fb8', marker='o', ls='')\n",
    "    # plot reference chi2\n",
    "    x  = np.linspace(chi2.ppf(0.0001, df), chi2.ppf(0.9999, df), 100)\n",
    "    plt.plot(x, chi2.pdf(x, df),'midnightblue', lw=5, alpha=0.8, label=r'$\\chi^2_{%i}$'%(df))\n",
    "    font = font_manager.FontProperties(family='serif', size=14) \n",
    "    plt.legend(prop=font, frameon=False)\n",
    "    plt.xlabel('t', fontsize=18, fontname=\"serif\")\n",
    "    plt.ylabel('Probability', fontsize=18, fontname=\"serif\")\n",
    "    plt.yticks(fontsize=16, fontname=\"serif\")\n",
    "    plt.xticks(fontsize=16, fontname=\"serif\")\n",
    "    if ymax !=None:\n",
    "        plt.ylim(0., ymax)\n",
    "    if save:\n",
    "        if output_path=='':\n",
    "            print('argument output_path is not defined. The figure will not be saved.')\n",
    "        else:\n",
    "            plt.savefig(output_path+ save_name+'_distribution.pdf')\n",
    "            print('saved at %s'%(output_path+ save_name+'_distribution.pdf'))\n",
    "    plt.show()\n",
    "    #plt.close(fig)\n",
    "    #return\n",
    "\n",
    "def plot_2distribution(t1, t2, df, xmin=0, xmax=300, ymax=None, nbins=10, save=False, output_path='', label1='1', label2='2', save_name='', print_Zscore=True):\n",
    "    '''\n",
    "    Plot the histogram of a test statistics sample (t) and the target chi2 distribution (df must be specified!).\n",
    "    The median and the error on the median are calculated in order to calculate the median Z-score and its error.\n",
    "    '''\n",
    "    plt.rcParams[\"font.family\"] = \"serif\"\n",
    "    plt.style.use('classic')\n",
    "    fig  = plt.figure(figsize=(12, 9))\n",
    "    fig.patch.set_facecolor('white')\n",
    "    # plot distribution histogram\n",
    "    bins      = np.linspace(xmin, xmax, nbins+1)\n",
    "    binswidth = (xmax-xmin)*1./nbins\n",
    "    # t1\n",
    "    Z_obs     = Z_score_chi2(np.median(t1), df)\n",
    "    t_obs_err = 1.2533*np.std(t1)*1./np.sqrt(t1.shape[0])\n",
    "    Z_obs_p   = Z_score_chi2(np.median(t1)+t_obs_err, df)\n",
    "    Z_obs_m   = Z_score_chi2(np.median(t1)-t_obs_err, df)\n",
    "    label  = '%s \\nsize: %i\\nmedian: %s, std: %s\\n'%(label1, t1.shape[0], str(np.around(np.median(t1), 2)),str(np.around(np.std(t1), 2)))\n",
    "    if print_Zscore:\n",
    "        label += 'asymptotic Z = %s (+%s/-%s)'%(str(np.around(Z_obs, 2)), str(np.around(Z_obs_p-Z_obs, 2)), str(np.around(Z_obs-Z_obs_m, 2)))\n",
    "    \n",
    "    h = plt.hist(t1, weights=np.ones_like(t1)*1./(t1.shape[0]*binswidth), color='lightblue', ec='#2c7fb8',\n",
    "                 bins=bins, label=label)\n",
    "    err = np.sqrt(h[0]/(t1.shape[0]*binswidth))\n",
    "    x   = 0.5*(bins[1:]+bins[:-1])\n",
    "    plt.errorbar(x, h[0], yerr = err, color='#2c7fb8', marker='o', ls='')\n",
    "    max1 = np.max(h[0])\n",
    "    # t2\n",
    "    Z_obs     = Z_score_chi2(np.median(t2), df)\n",
    "    t_obs_err = 1.2533*np.std(t2)*1./np.sqrt(t2.shape[0])\n",
    "    Z_obs_p   = Z_score_chi2(np.median(t2)+t_obs_err, df)\n",
    "    Z_obs_m   = Z_score_chi2(np.median(t2)-t_obs_err, df)\n",
    "    t_empirical = np.sum(1.*(t1>np.mean(t2)))*1./t1.shape[0]\n",
    "    empirical_lim = '='\n",
    "    if t_empirical==0:\n",
    "        empirical_lim='>'\n",
    "        t_empirical = 1./t1.shape[0]\n",
    "    t_empirical_err = t_empirical*np.sqrt(1./np.sum(1.*(t1>np.mean(t2))+1./t1.shape[0]))\n",
    "    Z_empirical = norm.ppf(1-t_empirical)\n",
    "    Z_empirical_m = norm.ppf(1-(t_empirical+t_empirical_err))\n",
    "    Z_empirical_p = norm.ppf(1-(t_empirical-t_empirical_err))\n",
    "                                          \n",
    "    label  = '%s \\nsize: %i\\nmedian: %s, std: %s\\n'%(label2, t2.shape[0], str(np.around(np.median(t2), 2)),str(np.around(np.std(t2), 2)))\n",
    "    if print_Zscore:\n",
    "        label += 'asymptotic Z = %s (+%s/-%s) \\n'%(str(np.around(Z_obs, 2)), str(np.around(Z_obs_p-Z_obs, 2)), str(np.around(Z_obs-Z_obs_m, 2)))\n",
    "        label += 'empirical Z %s %s (+%s/-%s)'%(empirical_lim, str(np.around(Z_empirical, 2)), str(np.around(Z_empirical_p-Z_empirical, 2)), str(np.around(Z_empirical-Z_empirical_m, 2)))\n",
    "    h = plt.hist(t2, weights=np.ones_like(t2)*1./(t2.shape[0]*binswidth), color='#8dd3c7', ec='seagreen',\n",
    "                 bins=bins, label=label)\n",
    "    err = np.sqrt(h[0]/(t2.shape[0]*binswidth))\n",
    "    x   = 0.5*(bins[1:]+bins[:-1])\n",
    "    plt.errorbar(x, h[0], yerr = err, color='seagreen', marker='o', ls='')\n",
    "    max2 = np.max(h[0])\n",
    "    # plot reference chi2\n",
    "    x  = np.linspace(chi2.ppf(0.0001, df), chi2.ppf(0.9999, df), 100)\n",
    "    plt.plot(x, chi2.pdf(x, df),'midnightblue', lw=5, alpha=0.8, label=r'$\\chi^2_{%i}$'%(df))\n",
    "    font = font_manager.FontProperties(family='serif', size=20) #weight='bold', style='normal', \n",
    "    plt.legend(ncol=1, loc='upper right', prop=font, frameon=False)\n",
    "    plt.xlabel('$t$', fontsize=32, fontname=\"serif\")\n",
    "    plt.ylabel('Probability', fontsize=32, fontname=\"serif\")\n",
    "    plt.ylim(0., 1.2*np.maximum(max1, max2))#np.max(chi2.pdf(x, df))*1.3)\n",
    "    if ymax !=None:\n",
    "        plt.ylim(0., ymax)\n",
    "    plt.yticks(fontsize=22, fontname=\"serif\")\n",
    "    plt.xticks(fontsize=22, fontname=\"serif\")\n",
    "    if save:\n",
    "        if output_path=='':\n",
    "            print('argument output_path is not defined. The figure will not be saved.')\n",
    "        else:\n",
    "            plt.savefig(output_path+ save_name+'_2distribution.pdf')\n",
    "    plt.show()\n",
    "    #plt.close()\n",
    "    #return #[Z_obs, Z_obs_p, Z_obs_m], [Z_empirical, Z_empirical_p, Z_empirical_m]"
   ]
  },
  {
   "cell_type": "code",
   "execution_count": 63,
   "id": "5b9be9ac-f95d-4f6d-9b9b-88a42551e188",
   "metadata": {},
   "outputs": [
    {
     "name": "stdout",
     "output_type": "stream",
     "text": [
      "saved at ./test_distribution.pdf\n"
     ]
    }
   ],
   "source": [
    "# plot null distribution\n",
    "plot_1distribution(t0, df=np.mean(t0), xmin=0.9*np.min(t0), xmax=60, nbins=16, label='REF', save=True, ymax=None, output_path='./', save_name='test')"
   ]
  },
  {
   "cell_type": "code",
   "execution_count": 64,
   "id": "fd6980b0-9706-4647-842c-4cc4ebcca266",
   "metadata": {},
   "outputs": [],
   "source": [
    "# plot alternative vs null distributions\n",
    "plot_2distribution(t0, t1, df=np.mean(t0), xmin=np.min(t0), xmax=np.max(t1)*1.1, #ymax=0.03, \n",
    "                   nbins=19, label1='REF', label2='BKG+SIG', print_Zscore=True,\n",
    "                   save=True, output_path='./', save_name='test')"
   ]
  },
  {
   "cell_type": "code",
   "execution_count": 74,
   "id": "f6182895-4cee-459d-976c-e7a6bbb4eebb",
   "metadata": {},
   "outputs": [
    {
     "data": {
      "text/plain": [
       "array([15.99646461, 18.99318622,  5.85134805, 14.12176316, 12.10554352,\n",
       "       11.28612414,  5.77985815, 26.47464293, 13.69609329,  6.1102891 ,\n",
       "       21.35271777, 17.95675839,  8.65597373, 11.00282698, 10.51465753,\n",
       "       25.1108407 ,  7.60370311,  6.49557349, 16.87192539,  8.05473919,\n",
       "       10.77508533, 16.38333098, 12.06819332, 11.72846645, 13.8745097 ,\n",
       "       16.22926067, 14.87685038, 12.20711867,  7.06951332,  5.91142158,\n",
       "       22.29179172, 20.36166491,  9.35695407,  4.94319746, 12.41977779,\n",
       "       10.40605456, 13.52897181, 10.1540219 ,  7.39893623,  5.81765651,\n",
       "       21.35489245,  5.51576872, 11.01215979,  7.50067676, 20.85715303,\n",
       "       12.71223954,  9.09551962, 15.99835844, 12.20328778, 14.79885279,\n",
       "       27.93588092, 11.6330539 , 13.81111612, 10.66337725,  7.55519857,\n",
       "       14.03532841, 11.20248872, 10.75291046, 13.11491608, 18.08081757,\n",
       "       20.70936156,  7.8659969 ,  3.91256072, 13.91309141,  7.60800429,\n",
       "       13.22105183,  8.13153317, 13.54229311,  4.5741374 ,  5.69919789,\n",
       "        9.65623276, 15.03928161,  8.25471973,  9.37151843, 10.86965868,\n",
       "       13.13562332, 13.17860774, 18.86207305, 17.85958237,  6.95975535,\n",
       "       11.89559786, 11.60048767, 19.1737062 , 11.15585331,  7.69676783,\n",
       "        6.46411747, 15.23242987, 11.40739874,  9.62741409,  4.35197259,\n",
       "       16.72479855,  8.53989587,  8.42116282, 14.49552551, 11.83271707,\n",
       "       18.298388  , 11.62786873,  6.98908046,  6.5732144 , 10.24553395])"
      ]
     },
     "execution_count": 74,
     "metadata": {},
     "output_type": "execute_result"
    }
   ],
   "source": []
  },
  {
   "cell_type": "markdown",
   "id": "33ae7877-b529-4029-a232-d368b4d11d66",
   "metadata": {},
   "source": [
    "# save files"
   ]
  },
  {
   "cell_type": "code",
   "execution_count": null,
   "id": "1c157bcd-5237-4825-b05f-b62ff5d8a21f",
   "metadata": {},
   "outputs": [],
   "source": [
    "## details about the save path\n",
    "folder_out = './out/'\n",
    "sig_string = ''\n",
    "if N_sig:\n",
    "    sig_string+='_SIG'\n",
    "    for s in sig_labels:\n",
    "        sig_string+='-%i'%(s)\n",
    "NP = '%s_NR%i_NB%i_NS%i_M%i_lam%s_iter%i/'%(sig_string, N_ref, N_bkg, N_sig,\n",
    "                                                  M, str(lam), iterations)\n",
    "if not os.path.exists(folder_out+NP):\n",
    "    os.makedirs(folder_out+NP)"
   ]
  },
  {
   "cell_type": "code",
   "execution_count": null,
   "id": "6f018e05-59b7-43f9-8a91-d20965b37638",
   "metadata": {},
   "outputs": [],
   "source": [
    "np.save('%s/t0.npy'%(folder_out+NP), t0)\n",
    "np.save('%s/t1.npy'%(folder_out+NP), t1)"
   ]
  },
  {
   "cell_type": "markdown",
   "id": "0dfcc30d-817b-4d69-afb7-3d5143bb6bdc",
   "metadata": {},
   "source": [
    "# test"
   ]
  },
  {
   "cell_type": "code",
   "execution_count": 1,
   "id": "08e5ed99-a75d-4d4c-b382-b4608fde8f52",
   "metadata": {},
   "outputs": [],
   "source": [
    "import glob, h5py, math, time, os, json, argparse, datetime\n",
    "import matplotlib.pyplot as plt\n",
    "\n",
    "base = \"/n/home11/sambt/contrastive_anomaly/training_JetClass/nate_scripts/trainings/kinpid/ParT_contrastive_outDim4_temp0.1/20241025-092604_ParT_embedder_d45c6dde3e2a709e6fd40acaf05cc5a2_adamW_lr0.0005_batch512/NPLM/\"\n",
    "\n",
    "f0 = h5py.File(f\"{base}/NPLM_d4_t1__NR50000_NB10000_NS0_M10000_lam1e-06_iter1000000/tvalues_flksigma3.9.h5\",\"r\")\n",
    "f1 = h5py.File(f\"{base}/NPLM_d4_t1_SIG-4_NR50000_NB10000_NS50_M10000_lam1e-06_iter1000000/tvalues_flksigma3.9.h5\",\"r\")\n"
   ]
  },
  {
   "cell_type": "code",
   "execution_count": 5,
   "id": "e4cc0879-d2d1-47a4-b6ce-deb018256182",
   "metadata": {},
   "outputs": [
    {
     "data": {
      "image/png": "[encoded data removed]",
      "text/plain": [
       "<Figure size 800x600 with 1 Axes>"
      ]
     },
     "metadata": {},
     "output_type": "display_data"
    }
   ],
   "source": [
    "plt.figure(figsize=(8,6))\n",
    "\n",
    "h0 = plt.hist(f0['3.9'][()],bins=20,histtype='step')\n",
    "h1 = plt.hist(f1['3.9'][()],bins=20,histtype='step')\n",
    "\n",
    "plt.show()"
   ]
  },
  {
   "cell_type": "code",
   "execution_count": null,
   "id": "e35ea37d-8650-4e26-a57f-8325ebf368ba",
   "metadata": {},
   "outputs": [],
   "source": []
  }
 ],
 "metadata": {
  "kernelspec": {
   "display_name": "Python [conda env:mamba-torch_gpu]",
   "language": "python",
   "name": "conda-env-mamba-torch_gpu-py"
  },
  "language_info": {
   "codemirror_mode": {
    "name": "ipython",
    "version": 3
   },
   "file_extension": ".py",
   "mimetype": "text/x-python",
   "name": "python",
   "nbconvert_exporter": "python",
   "pygments_lexer": "ipython3",
   "version": "3.10.15"
  }
 },
 "nbformat": 4,
 "nbformat_minor": 5
}
